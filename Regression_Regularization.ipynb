{
  "nbformat": 4,
  "nbformat_minor": 0,
  "metadata": {
    "colab": {
      "provenance": [],
      "include_colab_link": true
    },
    "kernelspec": {
      "name": "python3",
      "display_name": "Python 3"
    },
    "language_info": {
      "name": "python"
    }
  },
  "cells": [
    {
      "cell_type": "markdown",
      "metadata": {
        "id": "view-in-github",
        "colab_type": "text"
      },
      "source": [
        "<a href=\"https://colab.research.google.com/github/ShiweiHe0713/TECH-GB_2336_Data-Science-for-Business-Techincal/blob/main/Regression_Regularization.ipynb\" target=\"_parent\"><img src=\"https://colab.research.google.com/assets/colab-badge.svg\" alt=\"Open In Colab\"/></a>"
      ]
    },
    {
      "cell_type": "code",
      "execution_count": 1,
      "metadata": {
        "id": "D4JPvvDS4fIx"
      },
      "outputs": [],
      "source": [
        "# notebook created to get a multiple regression table for the advertising example"
      ]
    },
    {
      "cell_type": "markdown",
      "source": [
        "#Regression\n",
        "\n",
        "Using regularization - Lasso and Ridge"
      ],
      "metadata": {
        "id": "i4yehqMO9rLl"
      }
    },
    {
      "cell_type": "code",
      "execution_count": 2,
      "metadata": {
        "id": "o27tIlWJbf-f",
        "scrolled": true,
        "outputId": "9bdf6526-345c-4d79-ce9d-32a7e8bb43a4",
        "colab": {
          "base_uri": "https://localhost:8080/"
        }
      },
      "outputs": [
        {
          "output_type": "stream",
          "name": "stdout",
          "text": [
            "Cloning into 'DS4B_Sp24'...\n",
            "remote: Enumerating objects: 837, done.\u001b[K\n",
            "remote: Counting objects: 100% (239/239), done.\u001b[K\n",
            "remote: Compressing objects: 100% (127/127), done.\u001b[K\n",
            "remote: Total 837 (delta 113), reused 235 (delta 110), pack-reused 598\u001b[K\n",
            "Receiving objects: 100% (837/837), 158.22 MiB | 12.01 MiB/s, done.\n",
            "Resolving deltas: 100% (376/376), done.\n",
            "Updating files: 100% (146/146), done.\n",
            "/content/DS4B_Sp24/ClassModules/Module5_ModelAssessment\n"
          ]
        }
      ],
      "source": [
        "#If opening in colab run this cell\n",
        "!git clone https://github.com/CTVisMe/DS4B_Sp24.git\n",
        "%cd DS4B_Sp24/ClassModules/Module5_ModelAssessment/"
      ]
    },
    {
      "cell_type": "code",
      "source": [],
      "metadata": {
        "id": "nsShVQF-D5-x"
      },
      "execution_count": null,
      "outputs": []
    },
    {
      "cell_type": "code",
      "source": [
        "import pandas as pd\n",
        "import numpy as np\n",
        "import statsmodels.api as sm\n",
        "import statsmodels.formula.api as smf\n",
        "import matplotlib.pyplot as plt\n",
        "%matplotlib inline\n",
        "\n"
      ],
      "metadata": {
        "id": "f54hhk2d5Hh-"
      },
      "execution_count": 3,
      "outputs": []
    },
    {
      "cell_type": "markdown",
      "source": [
        "## Tayko data\n",
        "\n",
        "Recall the Tayko dataset (from Shmueli book)\n",
        "\n",
        "Many features to predict purchase - including catalogs and purchase infor"
      ],
      "metadata": {
        "id": "UQwjq1gnA7VM"
      }
    },
    {
      "cell_type": "code",
      "source": [
        "## lets look at regression for the Tayko data set\n",
        "\n",
        "from sklearn.model_selection import train_test_split\n",
        "from sklearn.linear_model import Lasso, Ridge, LinearRegression\n",
        "\n",
        "from sklearn.metrics import mean_squared_error\n",
        "# need to create new features with various powers of horsepower\n",
        "\n",
        "path = \"../Module2_Supervised/data/Tayko.csv\"\n",
        "\n",
        "df=pd.read_csv(path)\n",
        "#df.info()\n",
        "\n",
        "df.info()\n"
      ],
      "metadata": {
        "colab": {
          "base_uri": "https://localhost:8080/"
        },
        "id": "A3_SDR6aXuSA",
        "outputId": "65b10dd8-68e3-4476-974f-9a6060e7aa98"
      },
      "execution_count": 18,
      "outputs": [
        {
          "output_type": "stream",
          "name": "stdout",
          "text": [
            "<class 'pandas.core.frame.DataFrame'>\n",
            "RangeIndex: 2000 entries, 0 to 1999\n",
            "Data columns (total 25 columns):\n",
            " #   Column                Non-Null Count  Dtype\n",
            "---  ------                --------------  -----\n",
            " 0   sequence_number       2000 non-null   int64\n",
            " 1   US                    2000 non-null   int64\n",
            " 2   source_a              2000 non-null   int64\n",
            " 3   source_c              2000 non-null   int64\n",
            " 4   source_b              2000 non-null   int64\n",
            " 5   source_d              2000 non-null   int64\n",
            " 6   source_e              2000 non-null   int64\n",
            " 7   source_m              2000 non-null   int64\n",
            " 8   source_o              2000 non-null   int64\n",
            " 9   source_h              2000 non-null   int64\n",
            " 10  source_r              2000 non-null   int64\n",
            " 11  source_s              2000 non-null   int64\n",
            " 12  source_t              2000 non-null   int64\n",
            " 13  source_u              2000 non-null   int64\n",
            " 14  source_p              2000 non-null   int64\n",
            " 15  source_x              2000 non-null   int64\n",
            " 16  source_w              2000 non-null   int64\n",
            " 17  Freq                  2000 non-null   int64\n",
            " 18  last_update_days_ago  2000 non-null   int64\n",
            " 19  1st_update_days_ago   2000 non-null   int64\n",
            " 20  Web order             2000 non-null   int64\n",
            " 21  Gender=male           2000 non-null   int64\n",
            " 22  Address_is_res        2000 non-null   int64\n",
            " 23  Purchase              2000 non-null   int64\n",
            " 24  Spending              2000 non-null   int64\n",
            "dtypes: int64(25)\n",
            "memory usage: 390.8 KB\n"
          ]
        }
      ]
    },
    {
      "cell_type": "code",
      "source": [
        "# drop all cases where Purchase = 0 - we want to predict Spending when spending happens:\n",
        "\n",
        "df_spend = df[df['Purchase'] != 0]"
      ],
      "metadata": {
        "id": "R9g6Lc7fnO9Q"
      },
      "execution_count": 5,
      "outputs": []
    },
    {
      "cell_type": "code",
      "source": [
        "df_spend.describe()\n"
      ],
      "metadata": {
        "colab": {
          "base_uri": "https://localhost:8080/",
          "height": 350
        },
        "id": "W88EQF5bnaZg",
        "outputId": "a5896e5d-8284-4e2f-a5a5-5bb1d5d7f067"
      },
      "execution_count": 6,
      "outputs": [
        {
          "output_type": "execute_result",
          "data": {
            "text/plain": [
              "       sequence_number           US     source_a     source_c     source_b  \\\n",
              "count        1000.0000  1000.000000  1000.000000  1000.000000  1000.000000   \n",
              "mean          963.5360     0.833000     0.197000     0.044000     0.036000   \n",
              "std           584.7072     0.373162     0.397931     0.205198     0.186383   \n",
              "min             1.0000     0.000000     0.000000     0.000000     0.000000   \n",
              "25%           436.0000     1.000000     0.000000     0.000000     0.000000   \n",
              "50%           951.0000     1.000000     0.000000     0.000000     0.000000   \n",
              "75%          1485.2500     1.000000     0.000000     0.000000     0.000000   \n",
              "max          1997.0000     1.000000     1.000000     1.000000     1.000000   \n",
              "\n",
              "          source_d     source_e     source_m     source_o    source_h  ...  \\\n",
              "count  1000.000000  1000.000000  1000.000000  1000.000000  1000.00000  ...   \n",
              "mean      0.047000     0.134000     0.019000     0.013000     0.01200  ...   \n",
              "std       0.211745     0.340823     0.136593     0.113331     0.10894  ...   \n",
              "min       0.000000     0.000000     0.000000     0.000000     0.00000  ...   \n",
              "25%       0.000000     0.000000     0.000000     0.000000     0.00000  ...   \n",
              "50%       0.000000     0.000000     0.000000     0.000000     0.00000  ...   \n",
              "75%       0.000000     0.000000     0.000000     0.000000     0.00000  ...   \n",
              "max       1.000000     1.000000     1.000000     1.000000     1.00000  ...   \n",
              "\n",
              "          source_x     source_w         Freq  last_update_days_ago  \\\n",
              "count  1000.000000  1000.000000  1000.000000           1000.000000   \n",
              "mean      0.017000     0.154000     2.077000           1975.010000   \n",
              "std       0.129336     0.361129     1.598633           1118.469756   \n",
              "min       0.000000     0.000000     1.000000              1.000000   \n",
              "25%       0.000000     0.000000     1.000000           1027.750000   \n",
              "50%       0.000000     0.000000     2.000000           1995.000000   \n",
              "75%       0.000000     0.000000     2.250000           2912.000000   \n",
              "max       1.000000     1.000000    15.000000           4188.000000   \n",
              "\n",
              "       1st_update_days_ago    Web order  Gender=male  Address_is_res  \\\n",
              "count          1000.000000  1000.000000  1000.000000     1000.000000   \n",
              "mean           2475.384000     0.544000     0.514000        0.223000   \n",
              "std            1032.463509     0.498309     0.500054        0.416467   \n",
              "min               1.000000     0.000000     0.000000        0.000000   \n",
              "25%            1790.750000     0.000000     0.000000        0.000000   \n",
              "50%            2612.500000     1.000000     1.000000        0.000000   \n",
              "75%            3270.000000     1.000000     1.000000        0.000000   \n",
              "max            4188.000000     1.000000     1.000000        1.000000   \n",
              "\n",
              "       Purchase     Spending  \n",
              "count    1000.0  1000.000000  \n",
              "mean        1.0   205.249000  \n",
              "std         0.0   220.739559  \n",
              "min         1.0     3.000000  \n",
              "25%         1.0    94.750000  \n",
              "50%         1.0   153.000000  \n",
              "75%         1.0   233.750000  \n",
              "max         1.0  1500.000000  \n",
              "\n",
              "[8 rows x 25 columns]"
            ],
            "text/html": [
              "\n",
              "  <div id=\"df-20b5a38e-8297-48f4-8f7e-5d96e37ffe11\" class=\"colab-df-container\">\n",
              "    <div>\n",
              "<style scoped>\n",
              "    .dataframe tbody tr th:only-of-type {\n",
              "        vertical-align: middle;\n",
              "    }\n",
              "\n",
              "    .dataframe tbody tr th {\n",
              "        vertical-align: top;\n",
              "    }\n",
              "\n",
              "    .dataframe thead th {\n",
              "        text-align: right;\n",
              "    }\n",
              "</style>\n",
              "<table border=\"1\" class=\"dataframe\">\n",
              "  <thead>\n",
              "    <tr style=\"text-align: right;\">\n",
              "      <th></th>\n",
              "      <th>sequence_number</th>\n",
              "      <th>US</th>\n",
              "      <th>source_a</th>\n",
              "      <th>source_c</th>\n",
              "      <th>source_b</th>\n",
              "      <th>source_d</th>\n",
              "      <th>source_e</th>\n",
              "      <th>source_m</th>\n",
              "      <th>source_o</th>\n",
              "      <th>source_h</th>\n",
              "      <th>...</th>\n",
              "      <th>source_x</th>\n",
              "      <th>source_w</th>\n",
              "      <th>Freq</th>\n",
              "      <th>last_update_days_ago</th>\n",
              "      <th>1st_update_days_ago</th>\n",
              "      <th>Web order</th>\n",
              "      <th>Gender=male</th>\n",
              "      <th>Address_is_res</th>\n",
              "      <th>Purchase</th>\n",
              "      <th>Spending</th>\n",
              "    </tr>\n",
              "  </thead>\n",
              "  <tbody>\n",
              "    <tr>\n",
              "      <th>count</th>\n",
              "      <td>1000.0000</td>\n",
              "      <td>1000.000000</td>\n",
              "      <td>1000.000000</td>\n",
              "      <td>1000.000000</td>\n",
              "      <td>1000.000000</td>\n",
              "      <td>1000.000000</td>\n",
              "      <td>1000.000000</td>\n",
              "      <td>1000.000000</td>\n",
              "      <td>1000.000000</td>\n",
              "      <td>1000.00000</td>\n",
              "      <td>...</td>\n",
              "      <td>1000.000000</td>\n",
              "      <td>1000.000000</td>\n",
              "      <td>1000.000000</td>\n",
              "      <td>1000.000000</td>\n",
              "      <td>1000.000000</td>\n",
              "      <td>1000.000000</td>\n",
              "      <td>1000.000000</td>\n",
              "      <td>1000.000000</td>\n",
              "      <td>1000.0</td>\n",
              "      <td>1000.000000</td>\n",
              "    </tr>\n",
              "    <tr>\n",
              "      <th>mean</th>\n",
              "      <td>963.5360</td>\n",
              "      <td>0.833000</td>\n",
              "      <td>0.197000</td>\n",
              "      <td>0.044000</td>\n",
              "      <td>0.036000</td>\n",
              "      <td>0.047000</td>\n",
              "      <td>0.134000</td>\n",
              "      <td>0.019000</td>\n",
              "      <td>0.013000</td>\n",
              "      <td>0.01200</td>\n",
              "      <td>...</td>\n",
              "      <td>0.017000</td>\n",
              "      <td>0.154000</td>\n",
              "      <td>2.077000</td>\n",
              "      <td>1975.010000</td>\n",
              "      <td>2475.384000</td>\n",
              "      <td>0.544000</td>\n",
              "      <td>0.514000</td>\n",
              "      <td>0.223000</td>\n",
              "      <td>1.0</td>\n",
              "      <td>205.249000</td>\n",
              "    </tr>\n",
              "    <tr>\n",
              "      <th>std</th>\n",
              "      <td>584.7072</td>\n",
              "      <td>0.373162</td>\n",
              "      <td>0.397931</td>\n",
              "      <td>0.205198</td>\n",
              "      <td>0.186383</td>\n",
              "      <td>0.211745</td>\n",
              "      <td>0.340823</td>\n",
              "      <td>0.136593</td>\n",
              "      <td>0.113331</td>\n",
              "      <td>0.10894</td>\n",
              "      <td>...</td>\n",
              "      <td>0.129336</td>\n",
              "      <td>0.361129</td>\n",
              "      <td>1.598633</td>\n",
              "      <td>1118.469756</td>\n",
              "      <td>1032.463509</td>\n",
              "      <td>0.498309</td>\n",
              "      <td>0.500054</td>\n",
              "      <td>0.416467</td>\n",
              "      <td>0.0</td>\n",
              "      <td>220.739559</td>\n",
              "    </tr>\n",
              "    <tr>\n",
              "      <th>min</th>\n",
              "      <td>1.0000</td>\n",
              "      <td>0.000000</td>\n",
              "      <td>0.000000</td>\n",
              "      <td>0.000000</td>\n",
              "      <td>0.000000</td>\n",
              "      <td>0.000000</td>\n",
              "      <td>0.000000</td>\n",
              "      <td>0.000000</td>\n",
              "      <td>0.000000</td>\n",
              "      <td>0.00000</td>\n",
              "      <td>...</td>\n",
              "      <td>0.000000</td>\n",
              "      <td>0.000000</td>\n",
              "      <td>1.000000</td>\n",
              "      <td>1.000000</td>\n",
              "      <td>1.000000</td>\n",
              "      <td>0.000000</td>\n",
              "      <td>0.000000</td>\n",
              "      <td>0.000000</td>\n",
              "      <td>1.0</td>\n",
              "      <td>3.000000</td>\n",
              "    </tr>\n",
              "    <tr>\n",
              "      <th>25%</th>\n",
              "      <td>436.0000</td>\n",
              "      <td>1.000000</td>\n",
              "      <td>0.000000</td>\n",
              "      <td>0.000000</td>\n",
              "      <td>0.000000</td>\n",
              "      <td>0.000000</td>\n",
              "      <td>0.000000</td>\n",
              "      <td>0.000000</td>\n",
              "      <td>0.000000</td>\n",
              "      <td>0.00000</td>\n",
              "      <td>...</td>\n",
              "      <td>0.000000</td>\n",
              "      <td>0.000000</td>\n",
              "      <td>1.000000</td>\n",
              "      <td>1027.750000</td>\n",
              "      <td>1790.750000</td>\n",
              "      <td>0.000000</td>\n",
              "      <td>0.000000</td>\n",
              "      <td>0.000000</td>\n",
              "      <td>1.0</td>\n",
              "      <td>94.750000</td>\n",
              "    </tr>\n",
              "    <tr>\n",
              "      <th>50%</th>\n",
              "      <td>951.0000</td>\n",
              "      <td>1.000000</td>\n",
              "      <td>0.000000</td>\n",
              "      <td>0.000000</td>\n",
              "      <td>0.000000</td>\n",
              "      <td>0.000000</td>\n",
              "      <td>0.000000</td>\n",
              "      <td>0.000000</td>\n",
              "      <td>0.000000</td>\n",
              "      <td>0.00000</td>\n",
              "      <td>...</td>\n",
              "      <td>0.000000</td>\n",
              "      <td>0.000000</td>\n",
              "      <td>2.000000</td>\n",
              "      <td>1995.000000</td>\n",
              "      <td>2612.500000</td>\n",
              "      <td>1.000000</td>\n",
              "      <td>1.000000</td>\n",
              "      <td>0.000000</td>\n",
              "      <td>1.0</td>\n",
              "      <td>153.000000</td>\n",
              "    </tr>\n",
              "    <tr>\n",
              "      <th>75%</th>\n",
              "      <td>1485.2500</td>\n",
              "      <td>1.000000</td>\n",
              "      <td>0.000000</td>\n",
              "      <td>0.000000</td>\n",
              "      <td>0.000000</td>\n",
              "      <td>0.000000</td>\n",
              "      <td>0.000000</td>\n",
              "      <td>0.000000</td>\n",
              "      <td>0.000000</td>\n",
              "      <td>0.00000</td>\n",
              "      <td>...</td>\n",
              "      <td>0.000000</td>\n",
              "      <td>0.000000</td>\n",
              "      <td>2.250000</td>\n",
              "      <td>2912.000000</td>\n",
              "      <td>3270.000000</td>\n",
              "      <td>1.000000</td>\n",
              "      <td>1.000000</td>\n",
              "      <td>0.000000</td>\n",
              "      <td>1.0</td>\n",
              "      <td>233.750000</td>\n",
              "    </tr>\n",
              "    <tr>\n",
              "      <th>max</th>\n",
              "      <td>1997.0000</td>\n",
              "      <td>1.000000</td>\n",
              "      <td>1.000000</td>\n",
              "      <td>1.000000</td>\n",
              "      <td>1.000000</td>\n",
              "      <td>1.000000</td>\n",
              "      <td>1.000000</td>\n",
              "      <td>1.000000</td>\n",
              "      <td>1.000000</td>\n",
              "      <td>1.00000</td>\n",
              "      <td>...</td>\n",
              "      <td>1.000000</td>\n",
              "      <td>1.000000</td>\n",
              "      <td>15.000000</td>\n",
              "      <td>4188.000000</td>\n",
              "      <td>4188.000000</td>\n",
              "      <td>1.000000</td>\n",
              "      <td>1.000000</td>\n",
              "      <td>1.000000</td>\n",
              "      <td>1.0</td>\n",
              "      <td>1500.000000</td>\n",
              "    </tr>\n",
              "  </tbody>\n",
              "</table>\n",
              "<p>8 rows × 25 columns</p>\n",
              "</div>\n",
              "    <div class=\"colab-df-buttons\">\n",
              "\n",
              "  <div class=\"colab-df-container\">\n",
              "    <button class=\"colab-df-convert\" onclick=\"convertToInteractive('df-20b5a38e-8297-48f4-8f7e-5d96e37ffe11')\"\n",
              "            title=\"Convert this dataframe to an interactive table.\"\n",
              "            style=\"display:none;\">\n",
              "\n",
              "  <svg xmlns=\"http://www.w3.org/2000/svg\" height=\"24px\" viewBox=\"0 -960 960 960\">\n",
              "    <path d=\"M120-120v-720h720v720H120Zm60-500h600v-160H180v160Zm220 220h160v-160H400v160Zm0 220h160v-160H400v160ZM180-400h160v-160H180v160Zm440 0h160v-160H620v160ZM180-180h160v-160H180v160Zm440 0h160v-160H620v160Z\"/>\n",
              "  </svg>\n",
              "    </button>\n",
              "\n",
              "  <style>\n",
              "    .colab-df-container {\n",
              "      display:flex;\n",
              "      gap: 12px;\n",
              "    }\n",
              "\n",
              "    .colab-df-convert {\n",
              "      background-color: #E8F0FE;\n",
              "      border: none;\n",
              "      border-radius: 50%;\n",
              "      cursor: pointer;\n",
              "      display: none;\n",
              "      fill: #1967D2;\n",
              "      height: 32px;\n",
              "      padding: 0 0 0 0;\n",
              "      width: 32px;\n",
              "    }\n",
              "\n",
              "    .colab-df-convert:hover {\n",
              "      background-color: #E2EBFA;\n",
              "      box-shadow: 0px 1px 2px rgba(60, 64, 67, 0.3), 0px 1px 3px 1px rgba(60, 64, 67, 0.15);\n",
              "      fill: #174EA6;\n",
              "    }\n",
              "\n",
              "    .colab-df-buttons div {\n",
              "      margin-bottom: 4px;\n",
              "    }\n",
              "\n",
              "    [theme=dark] .colab-df-convert {\n",
              "      background-color: #3B4455;\n",
              "      fill: #D2E3FC;\n",
              "    }\n",
              "\n",
              "    [theme=dark] .colab-df-convert:hover {\n",
              "      background-color: #434B5C;\n",
              "      box-shadow: 0px 1px 3px 1px rgba(0, 0, 0, 0.15);\n",
              "      filter: drop-shadow(0px 1px 2px rgba(0, 0, 0, 0.3));\n",
              "      fill: #FFFFFF;\n",
              "    }\n",
              "  </style>\n",
              "\n",
              "    <script>\n",
              "      const buttonEl =\n",
              "        document.querySelector('#df-20b5a38e-8297-48f4-8f7e-5d96e37ffe11 button.colab-df-convert');\n",
              "      buttonEl.style.display =\n",
              "        google.colab.kernel.accessAllowed ? 'block' : 'none';\n",
              "\n",
              "      async function convertToInteractive(key) {\n",
              "        const element = document.querySelector('#df-20b5a38e-8297-48f4-8f7e-5d96e37ffe11');\n",
              "        const dataTable =\n",
              "          await google.colab.kernel.invokeFunction('convertToInteractive',\n",
              "                                                    [key], {});\n",
              "        if (!dataTable) return;\n",
              "\n",
              "        const docLinkHtml = 'Like what you see? Visit the ' +\n",
              "          '<a target=\"_blank\" href=https://colab.research.google.com/notebooks/data_table.ipynb>data table notebook</a>'\n",
              "          + ' to learn more about interactive tables.';\n",
              "        element.innerHTML = '';\n",
              "        dataTable['output_type'] = 'display_data';\n",
              "        await google.colab.output.renderOutput(dataTable, element);\n",
              "        const docLink = document.createElement('div');\n",
              "        docLink.innerHTML = docLinkHtml;\n",
              "        element.appendChild(docLink);\n",
              "      }\n",
              "    </script>\n",
              "  </div>\n",
              "\n",
              "\n",
              "<div id=\"df-73e63f00-0a23-4d15-939e-e34a73766fe6\">\n",
              "  <button class=\"colab-df-quickchart\" onclick=\"quickchart('df-73e63f00-0a23-4d15-939e-e34a73766fe6')\"\n",
              "            title=\"Suggest charts\"\n",
              "            style=\"display:none;\">\n",
              "\n",
              "<svg xmlns=\"http://www.w3.org/2000/svg\" height=\"24px\"viewBox=\"0 0 24 24\"\n",
              "     width=\"24px\">\n",
              "    <g>\n",
              "        <path d=\"M19 3H5c-1.1 0-2 .9-2 2v14c0 1.1.9 2 2 2h14c1.1 0 2-.9 2-2V5c0-1.1-.9-2-2-2zM9 17H7v-7h2v7zm4 0h-2V7h2v10zm4 0h-2v-4h2v4z\"/>\n",
              "    </g>\n",
              "</svg>\n",
              "  </button>\n",
              "\n",
              "<style>\n",
              "  .colab-df-quickchart {\n",
              "      --bg-color: #E8F0FE;\n",
              "      --fill-color: #1967D2;\n",
              "      --hover-bg-color: #E2EBFA;\n",
              "      --hover-fill-color: #174EA6;\n",
              "      --disabled-fill-color: #AAA;\n",
              "      --disabled-bg-color: #DDD;\n",
              "  }\n",
              "\n",
              "  [theme=dark] .colab-df-quickchart {\n",
              "      --bg-color: #3B4455;\n",
              "      --fill-color: #D2E3FC;\n",
              "      --hover-bg-color: #434B5C;\n",
              "      --hover-fill-color: #FFFFFF;\n",
              "      --disabled-bg-color: #3B4455;\n",
              "      --disabled-fill-color: #666;\n",
              "  }\n",
              "\n",
              "  .colab-df-quickchart {\n",
              "    background-color: var(--bg-color);\n",
              "    border: none;\n",
              "    border-radius: 50%;\n",
              "    cursor: pointer;\n",
              "    display: none;\n",
              "    fill: var(--fill-color);\n",
              "    height: 32px;\n",
              "    padding: 0;\n",
              "    width: 32px;\n",
              "  }\n",
              "\n",
              "  .colab-df-quickchart:hover {\n",
              "    background-color: var(--hover-bg-color);\n",
              "    box-shadow: 0 1px 2px rgba(60, 64, 67, 0.3), 0 1px 3px 1px rgba(60, 64, 67, 0.15);\n",
              "    fill: var(--button-hover-fill-color);\n",
              "  }\n",
              "\n",
              "  .colab-df-quickchart-complete:disabled,\n",
              "  .colab-df-quickchart-complete:disabled:hover {\n",
              "    background-color: var(--disabled-bg-color);\n",
              "    fill: var(--disabled-fill-color);\n",
              "    box-shadow: none;\n",
              "  }\n",
              "\n",
              "  .colab-df-spinner {\n",
              "    border: 2px solid var(--fill-color);\n",
              "    border-color: transparent;\n",
              "    border-bottom-color: var(--fill-color);\n",
              "    animation:\n",
              "      spin 1s steps(1) infinite;\n",
              "  }\n",
              "\n",
              "  @keyframes spin {\n",
              "    0% {\n",
              "      border-color: transparent;\n",
              "      border-bottom-color: var(--fill-color);\n",
              "      border-left-color: var(--fill-color);\n",
              "    }\n",
              "    20% {\n",
              "      border-color: transparent;\n",
              "      border-left-color: var(--fill-color);\n",
              "      border-top-color: var(--fill-color);\n",
              "    }\n",
              "    30% {\n",
              "      border-color: transparent;\n",
              "      border-left-color: var(--fill-color);\n",
              "      border-top-color: var(--fill-color);\n",
              "      border-right-color: var(--fill-color);\n",
              "    }\n",
              "    40% {\n",
              "      border-color: transparent;\n",
              "      border-right-color: var(--fill-color);\n",
              "      border-top-color: var(--fill-color);\n",
              "    }\n",
              "    60% {\n",
              "      border-color: transparent;\n",
              "      border-right-color: var(--fill-color);\n",
              "    }\n",
              "    80% {\n",
              "      border-color: transparent;\n",
              "      border-right-color: var(--fill-color);\n",
              "      border-bottom-color: var(--fill-color);\n",
              "    }\n",
              "    90% {\n",
              "      border-color: transparent;\n",
              "      border-bottom-color: var(--fill-color);\n",
              "    }\n",
              "  }\n",
              "</style>\n",
              "\n",
              "  <script>\n",
              "    async function quickchart(key) {\n",
              "      const quickchartButtonEl =\n",
              "        document.querySelector('#' + key + ' button');\n",
              "      quickchartButtonEl.disabled = true;  // To prevent multiple clicks.\n",
              "      quickchartButtonEl.classList.add('colab-df-spinner');\n",
              "      try {\n",
              "        const charts = await google.colab.kernel.invokeFunction(\n",
              "            'suggestCharts', [key], {});\n",
              "      } catch (error) {\n",
              "        console.error('Error during call to suggestCharts:', error);\n",
              "      }\n",
              "      quickchartButtonEl.classList.remove('colab-df-spinner');\n",
              "      quickchartButtonEl.classList.add('colab-df-quickchart-complete');\n",
              "    }\n",
              "    (() => {\n",
              "      let quickchartButtonEl =\n",
              "        document.querySelector('#df-73e63f00-0a23-4d15-939e-e34a73766fe6 button');\n",
              "      quickchartButtonEl.style.display =\n",
              "        google.colab.kernel.accessAllowed ? 'block' : 'none';\n",
              "    })();\n",
              "  </script>\n",
              "</div>\n",
              "\n",
              "    </div>\n",
              "  </div>\n"
            ],
            "application/vnd.google.colaboratory.intrinsic+json": {
              "type": "dataframe"
            }
          },
          "metadata": {},
          "execution_count": 6
        }
      ]
    },
    {
      "cell_type": "markdown",
      "source": [
        "## Linear Regression using statmodels and OLS\n",
        "\n",
        "(OLS = ordinary least squares, or just vanilla linear regression)"
      ],
      "metadata": {
        "id": "EVYfoCpPhD3R"
      }
    },
    {
      "cell_type": "code",
      "source": [
        "#First fit a standard OLS model\n",
        "#read in using read_csv\n",
        "#from sklearn.linear_model import LinearRegression\n",
        "from statsmodels.api import OLS\n",
        "\n",
        "X=df_spend.drop([\"sequence_number\",\"Purchase\",\"Spending\"],axis=1)\n",
        "y=df_spend[\"Spending\"]\n",
        "\n",
        "\n",
        "X_train, X_test, y_train, y_test = train_test_split(X, y, test_size=0.9, random_state=1)\n",
        "\n",
        "# We are going to use the OLS fitting method from statsmodels instead of sklearn.LinearRegression\n",
        "# I like the way it outputs a nice regression table\n",
        "#mlr_model=LinearRegression()\n",
        "#mlr_model.fit(X_train,y_train)\n",
        "X_train = sm.add_constant(X_train)\n",
        "mlr_model=OLS(y_train,X_train).fit()\n",
        "\n",
        "print(mlr_model.summary())\n",
        "\n"
      ],
      "metadata": {
        "colab": {
          "base_uri": "https://localhost:8080/"
        },
        "id": "YklmjJWvf2Nj",
        "outputId": "be109c20-966a-47d3-c616-b21c0a0fb951"
      },
      "execution_count": 9,
      "outputs": [
        {
          "output_type": "stream",
          "name": "stdout",
          "text": [
            "                            OLS Regression Results                            \n",
            "==============================================================================\n",
            "Dep. Variable:               Spending   R-squared:                       0.438\n",
            "Model:                            OLS   Adj. R-squared:                  0.278\n",
            "Method:                 Least Squares   F-statistic:                     2.729\n",
            "Date:                Thu, 14 Mar 2024   Prob (F-statistic):           0.000636\n",
            "Time:                        00:14:49   Log-Likelihood:                -612.04\n",
            "No. Observations:                 100   AIC:                             1270.\n",
            "Df Residuals:                      77   BIC:                             1330.\n",
            "Df Model:                          22                                         \n",
            "Covariance Type:            nonrobust                                         \n",
            "========================================================================================\n",
            "                           coef    std err          t      P>|t|      [0.025      0.975]\n",
            "----------------------------------------------------------------------------------------\n",
            "const                  325.3416    108.614      2.995      0.004     109.063     541.620\n",
            "US                     -38.1861     43.913     -0.870      0.387    -125.628      49.256\n",
            "source_a              -140.0363     96.535     -1.451      0.151    -332.262      52.189\n",
            "source_c              -237.5014    116.984     -2.030      0.046    -470.447      -4.556\n",
            "source_b              -175.8487    108.785     -1.616      0.110    -392.467      40.770\n",
            "source_d              -108.9964    119.033     -0.916      0.363    -346.022     128.029\n",
            "source_e              -143.1328     96.877     -1.477      0.144    -336.040      49.775\n",
            "source_m              -207.9058    118.803     -1.750      0.084    -444.472      28.660\n",
            "source_o               -82.3701    132.686     -0.621      0.537    -346.582     181.841\n",
            "source_h              -274.9483    160.506     -1.713      0.091    -594.556      44.660\n",
            "source_r              -164.7465    104.079     -1.583      0.118    -371.995      42.501\n",
            "source_s              -261.0763    156.885     -1.664      0.100    -573.474      51.321\n",
            "source_t              -216.6310    131.360     -1.649      0.103    -478.202      44.940\n",
            "source_u              -132.3430     95.196     -1.390      0.168    -321.903      57.217\n",
            "source_p              -182.7104    133.748     -1.366      0.176    -449.037      83.616\n",
            "source_x              -192.6105    115.096     -1.673      0.098    -421.795      36.574\n",
            "source_w              -145.5233     99.079     -1.469      0.146    -342.814      51.768\n",
            "Freq                    66.6967     15.281      4.365      0.000      36.269      97.124\n",
            "last_update_days_ago    -0.0045      0.024     -0.189      0.851      -0.052       0.043\n",
            "1st_update_days_ago     -0.0105      0.027     -0.396      0.693      -0.063       0.042\n",
            "Web order              -32.7030     28.097     -1.164      0.248     -88.650      23.244\n",
            "Gender=male            -23.0693     28.463     -0.811      0.420     -79.746      33.607\n",
            "Address_is_res         -70.1440     30.647     -2.289      0.025    -131.171      -9.117\n",
            "==============================================================================\n",
            "Omnibus:                        8.125   Durbin-Watson:                   2.025\n",
            "Prob(Omnibus):                  0.017   Jarque-Bera (JB):                7.756\n",
            "Skew:                           0.647   Prob(JB):                       0.0207\n",
            "Kurtosis:                       3.431   Cond. No.                     1.01e+05\n",
            "==============================================================================\n",
            "\n",
            "Notes:\n",
            "[1] Standard Errors assume that the covariance matrix of the errors is correctly specified.\n",
            "[2] The condition number is large, 1.01e+05. This might indicate that there are\n",
            "strong multicollinearity or other numerical problems.\n"
          ]
        }
      ]
    },
    {
      "cell_type": "code",
      "source": [
        "## print out RMSE\n",
        "\n",
        "\n",
        "X_test = sm.add_constant(X_test)\n",
        "y_pred=mlr_model.predict(X_test)\n",
        "mlr_rmse=mean_squared_error(y_pred,y_test)\n",
        "\n",
        "print(mlr_rmse.round(1))"
      ],
      "metadata": {
        "colab": {
          "base_uri": "https://localhost:8080/"
        },
        "id": "_DdyogFZi8s4",
        "outputId": "e9149fe5-7fcd-46c6-cab0-4396bd9bb3bb"
      },
      "execution_count": 10,
      "outputs": [
        {
          "output_type": "stream",
          "name": "stdout",
          "text": [
            "31997.5\n"
          ]
        }
      ]
    },
    {
      "cell_type": "code",
      "source": [],
      "metadata": {
        "id": "d4bA_kMOUXCf"
      },
      "execution_count": null,
      "outputs": []
    },
    {
      "cell_type": "markdown",
      "source": [
        "## Regularization : Ridge Regression\n",
        "\n",
        "Ridge regression imposes an L2 (squared) penalty on the coefficients - \"shrinking\" them towards zero"
      ],
      "metadata": {
        "id": "Kx5Ou3XthMjB"
      }
    },
    {
      "cell_type": "code",
      "source": [
        "\n",
        "for a in [0,1,2,3,4,5]:\n",
        "  model = Ridge(alpha=a) # what we called lambda in class is alpha in the Ridge function\n",
        "\n",
        "  model.fit(X_train, y_train)\n",
        "  y_pred=model.predict(X_test)\n",
        "  rmse=mean_squared_error(y_pred,y_test)\n",
        "  print(\"lambda=\",a,\": rmse = \",rmse.round(1))\n",
        "\n"
      ],
      "metadata": {
        "colab": {
          "base_uri": "https://localhost:8080/"
        },
        "id": "dbPo5qRwdA6I",
        "outputId": "97385f8a-a590-43f7-ea99-a22fe46020b4"
      },
      "execution_count": 11,
      "outputs": [
        {
          "output_type": "stream",
          "name": "stdout",
          "text": [
            "lambda= 0 : rmse =  31997.5\n",
            "lambda= 1 : rmse =  30895.3\n",
            "lambda= 2 : rmse =  30869.6\n",
            "lambda= 3 : rmse =  30919.4\n",
            "lambda= 4 : rmse =  30996.5\n",
            "lambda= 5 : rmse =  31086.0\n"
          ]
        }
      ]
    },
    {
      "cell_type": "code",
      "source": [],
      "metadata": {
        "id": "5KuZgDgf2tpz"
      },
      "execution_count": null,
      "outputs": []
    },
    {
      "cell_type": "code",
      "source": [
        "model_best=Ridge(alpha=2)\n",
        "\n",
        "model_best.fit(X_train,y_train)\n",
        "\n",
        "model_best.coef_\n",
        "\n",
        "coef_table = zip(X.columns,model_best.coef_.round(1))\n",
        "\n",
        "df3 = pd.DataFrame(coef_table, columns=['colname', 'coef'])\n",
        "\n",
        "print(df3)"
      ],
      "metadata": {
        "colab": {
          "base_uri": "https://localhost:8080/"
        },
        "id": "sKSZPC25dYaX",
        "outputId": "b9b9e84b-c3e3-4f1e-de45-4ebabb4fbb3e"
      },
      "execution_count": 12,
      "outputs": [
        {
          "output_type": "stream",
          "name": "stdout",
          "text": [
            "                 colname  coef\n",
            "0                     US   0.0\n",
            "1               source_a -29.3\n",
            "2               source_c  11.6\n",
            "3               source_b -51.6\n",
            "4               source_d -14.9\n",
            "5               source_e  27.6\n",
            "6               source_m  10.8\n",
            "7               source_o -29.9\n",
            "8               source_h  22.2\n",
            "9               source_r -38.0\n",
            "10              source_s  -5.8\n",
            "11              source_t -33.5\n",
            "12              source_u -29.9\n",
            "13              source_p  17.2\n",
            "14              source_x -12.7\n",
            "15              source_w -27.2\n",
            "16                  Freq   8.3\n",
            "17  last_update_days_ago  61.9\n",
            "18   1st_update_days_ago  -0.0\n",
            "19             Web order   0.0\n",
            "20           Gender=male -34.1\n",
            "21        Address_is_res -26.7\n"
          ]
        }
      ]
    },
    {
      "cell_type": "markdown",
      "source": [
        "## Regularization : Lasso Regression\n",
        "\n",
        "Lasso uses an L1 (or absolute value) penalty"
      ],
      "metadata": {
        "id": "ib8uwEPFhZgu"
      }
    },
    {
      "cell_type": "code",
      "source": [
        "\n",
        "# now lets do Lasso\n",
        "\n",
        "\n",
        "\n",
        "for a in [0,1,2,3,4,5]:\n",
        "  model = Lasso(alpha=a) # remember alpha here is lambda in our notes\n",
        "  # fit model\n",
        "  model.fit(X_train, y_train)\n",
        "  y_pred=model.predict(X_test)\n",
        "  rmse=mean_squared_error(y_pred,y_test)\n",
        "  print(\"lambda=\",a,\": rmse = \",rmse.round(1))\n",
        "\n",
        "\n",
        "\n"
      ],
      "metadata": {
        "colab": {
          "base_uri": "https://localhost:8080/"
        },
        "id": "nat7CYfgRz4A",
        "outputId": "c902a5d4-3775-4e6a-d133-43c3bdad0573"
      },
      "execution_count": 13,
      "outputs": [
        {
          "output_type": "stream",
          "name": "stderr",
          "text": [
            "<ipython-input-13-2f2a0eddad7a>:8: UserWarning: With alpha=0, this algorithm does not converge well. You are advised to use the LinearRegression estimator\n",
            "  model.fit(X_train, y_train)\n",
            "/usr/local/lib/python3.10/dist-packages/sklearn/linear_model/_coordinate_descent.py:631: UserWarning: Coordinate descent with no regularization may lead to unexpected results and is discouraged.\n",
            "  model = cd_fast.enet_coordinate_descent(\n",
            "/usr/local/lib/python3.10/dist-packages/sklearn/linear_model/_coordinate_descent.py:631: ConvergenceWarning: Objective did not converge. You might want to increase the number of iterations, check the scale of the features or consider increasing regularisation. Duality gap: 6.062e+05, tolerance: 2.158e+02 Linear regression models with null weight for the l1 regularization term are more efficiently fitted using one of the solvers implemented in sklearn.linear_model.Ridge/RidgeCV instead.\n",
            "  model = cd_fast.enet_coordinate_descent(\n"
          ]
        },
        {
          "output_type": "stream",
          "name": "stdout",
          "text": [
            "lambda= 0 : rmse =  31997.5\n",
            "lambda= 1 : rmse =  30706.2\n",
            "lambda= 2 : rmse =  30994.9\n",
            "lambda= 3 : rmse =  31304.0\n",
            "lambda= 4 : rmse =  31506.2\n",
            "lambda= 5 : rmse =  31678.5\n"
          ]
        }
      ]
    },
    {
      "cell_type": "code",
      "source": [
        "\n",
        "\n",
        "model_best=Lasso(alpha=1)\n",
        "\n",
        "model_best.fit(X,y)\n",
        "\n",
        "coef_table = zip(X.columns,model_best.coef_.round(4))\n",
        "\n",
        "df3 = pd.DataFrame(coef_table, columns=['colname', 'coef'])\n",
        "\n",
        "print(df3)"
      ],
      "metadata": {
        "colab": {
          "base_uri": "https://localhost:8080/"
        },
        "id": "cH5ZU17bfBud",
        "outputId": "1b440877-1d14-4111-8072-1e8eabb726fb"
      },
      "execution_count": 14,
      "outputs": [
        {
          "output_type": "stream",
          "name": "stdout",
          "text": [
            "                 colname     coef\n",
            "0                     US  -8.7375\n",
            "1               source_a  39.8079\n",
            "2               source_c  -3.7640\n",
            "3               source_b   0.0000\n",
            "4               source_d  -0.0000\n",
            "5               source_e  -0.0000\n",
            "6               source_m  -0.0000\n",
            "7               source_o   0.0000\n",
            "8               source_h  -0.0000\n",
            "9               source_r  58.6460\n",
            "10              source_s  -0.0000\n",
            "11              source_t  -0.0000\n",
            "12              source_u  26.7984\n",
            "13              source_p  -0.0000\n",
            "14              source_x  -0.0000\n",
            "15              source_w   0.0000\n",
            "16                  Freq  89.9227\n",
            "17  last_update_days_ago  -0.0133\n",
            "18   1st_update_days_ago  -0.0136\n",
            "19             Web order  -0.0000\n",
            "20           Gender=male  -0.0000\n",
            "21        Address_is_res -78.7675\n"
          ]
        }
      ]
    },
    {
      "cell_type": "markdown",
      "source": [
        "## Preventing overfitting by variable selection\n",
        "\n",
        "What if we had just select the best of the OLS features?"
      ],
      "metadata": {
        "id": "-sbV2tOwhxZT"
      }
    },
    {
      "cell_type": "code",
      "source": [
        "#What if we had just selected the best of the OLS features?\n",
        "\n",
        "X=df_spend[[\"source_c\",\"Freq\",\"Address_is_res\"]]\n",
        "y=df_spend[\"Spending\"]\n",
        "\n",
        "\n",
        "X_train, X_test, y_train, y_test = train_test_split(X, y, test_size=0.9, random_state=1)\n",
        "\n",
        "mlr_model=LinearRegression()\n",
        "mlr_model.fit(X_train,y_train)\n",
        "X_train = sm.add_constant(X_train)\n",
        "mlr_model=OLS(y_train,X_train).fit()\n",
        "\n",
        "print(mlr_model.summary())\n"
      ],
      "metadata": {
        "colab": {
          "base_uri": "https://localhost:8080/"
        },
        "id": "nmLVuCZiqhEw",
        "outputId": "ac6b1752-d953-4adc-ea2b-b93dda5f9674"
      },
      "execution_count": 19,
      "outputs": [
        {
          "output_type": "stream",
          "name": "stdout",
          "text": [
            "                            OLS Regression Results                            \n",
            "==============================================================================\n",
            "Dep. Variable:               Spending   R-squared:                       0.345\n",
            "Model:                            OLS   Adj. R-squared:                  0.324\n",
            "Method:                 Least Squares   F-statistic:                     16.83\n",
            "Date:                Thu, 14 Mar 2024   Prob (F-statistic):           7.30e-09\n",
            "Time:                        00:22:32   Log-Likelihood:                -619.73\n",
            "No. Observations:                 100   AIC:                             1247.\n",
            "Df Residuals:                      96   BIC:                             1258.\n",
            "Df Model:                           3                                         \n",
            "Covariance Type:            nonrobust                                         \n",
            "==================================================================================\n",
            "                     coef    std err          t      P>|t|      [0.025      0.975]\n",
            "----------------------------------------------------------------------------------\n",
            "const             70.0901     21.842      3.209      0.002      26.734     113.446\n",
            "source_c        -100.8024     71.823     -1.403      0.164    -243.370      41.765\n",
            "Freq              67.3805      9.581      7.033      0.000      48.363      86.398\n",
            "Address_is_res   -58.9536     26.877     -2.193      0.031    -112.304      -5.603\n",
            "==============================================================================\n",
            "Omnibus:                       16.720   Durbin-Watson:                   2.124\n",
            "Prob(Omnibus):                  0.000   Jarque-Bera (JB):               19.663\n",
            "Skew:                           0.926   Prob(JB):                     5.37e-05\n",
            "Kurtosis:                       4.134   Cond. No.                         15.0\n",
            "==============================================================================\n",
            "\n",
            "Notes:\n",
            "[1] Standard Errors assume that the covariance matrix of the errors is correctly specified.\n"
          ]
        }
      ]
    },
    {
      "cell_type": "code",
      "source": [
        "\n",
        "X_test = sm.add_constant(X_test)\n",
        "y_pred=mlr_model.predict(X_test)\n",
        "mlr_rmse=mean_squared_error(y_pred,y_test)\n",
        "\n",
        "print(mlr_rmse.round(1))"
      ],
      "metadata": {
        "colab": {
          "base_uri": "https://localhost:8080/"
        },
        "id": "WKamdbg9raGj",
        "outputId": "9cc24f2a-dc99-457b-9c28-2945855cbdc5"
      },
      "execution_count": 20,
      "outputs": [
        {
          "output_type": "stream",
          "name": "stdout",
          "text": [
            "30830.8\n"
          ]
        }
      ]
    }
  ]
}