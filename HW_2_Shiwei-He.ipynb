{
  "cells": [
    {
      "cell_type": "code",
      "execution_count": 307,
      "metadata": {
        "scrolled": true,
        "id": "mUbLmMW2quQG",
        "colab": {
          "base_uri": "https://localhost:8080/",
          "height": 0
        },
        "outputId": "4ec61597-906a-4007-db6a-4bc6608bb94e"
      },
      "outputs": [
        {
          "output_type": "stream",
          "name": "stdout",
          "text": [
            "Cloning into 'DS4B_Sp24'...\n",
            "remote: Enumerating objects: 860, done.\u001b[K\n",
            "remote: Counting objects: 100% (262/262), done.\u001b[K\n",
            "remote: Compressing objects: 100% (144/144), done.\u001b[K\n",
            "remote: Total 860 (delta 122), reused 255 (delta 116), pack-reused 598\u001b[K\n",
            "Receiving objects: 100% (860/860), 159.30 MiB | 22.17 MiB/s, done.\n",
            "Resolving deltas: 100% (385/385), done.\n",
            "Updating files: 100% (146/146), done.\n",
            "/content/DS4B_Sp24/Homeworks/DS4B_Sp24/Homeworks/DS4B_Sp24/Homeworks/DS4B_Sp24/Homeworks\n"
          ]
        }
      ],
      "source": [
        "#If opening in colab run this cell\n",
        "!git clone https://github.com/CTVisMe/DS4B_Sp24.git\n",
        "%cd DS4B_Sp24/Homeworks/"
      ]
    },
    {
      "cell_type": "markdown",
      "source": [
        "## # IF OPENING IN COLAB, REMEMBER TO SAVE THIS NOTEBOOK TO YOUR GOOGLE DRIVE!"
      ],
      "metadata": {
        "id": "QWx2G0Oc114C"
      }
    },
    {
      "cell_type": "markdown",
      "metadata": {
        "id": "QjOdh8dhquQH"
      },
      "source": [
        "# HW2: Predicting Patient Show-Up\n",
        "\n",
        "The purpose of this part of the homework is to get you up to speed with data manipulation and model fitting using Python. These are the skills you will need to have for your term project.\n",
        "\n",
        "### Background\n",
        "\n",
        "You've been hired as the manager of Sacred Heart Medical Clinic (SHMC). As part of its business model, SHMC usually employs doctors on demand, meaning that doctors are asked to come only when there are appointments. However, once a doctor has been asked to come, you must pay him or her regardless of whether the patient shows up or not. You want to use data on previous appointments to figure out whether you can predict which patients are going to show up, so that you can plan better how many doctors to call."
      ]
    },
    {
      "cell_type": "code",
      "execution_count": 308,
      "metadata": {
        "collapsed": true,
        "id": "xYsbax8AquQI"
      },
      "outputs": [],
      "source": [
        "import pandas as pd\n",
        "import numpy as np\n",
        "import matplotlib.pyplot as plt\n",
        "\n",
        "# Path to the data containing past appointments (Remember to change this to the specific path of your data).\n",
        "data_path = \"./data/data-hw2.csv\""
      ]
    },
    {
      "cell_type": "markdown",
      "metadata": {
        "id": "HbIMTbGFquQJ"
      },
      "source": [
        "### Loading the data\n",
        "\n",
        "**1. Load the data referenced by the path above into a pandas data frame. Print the total number of rows and columns, and show the first few rows in the dataset.**"
      ]
    },
    {
      "cell_type": "code",
      "execution_count": 309,
      "metadata": {
        "collapsed": true,
        "id": "J3IyL_HPquQJ",
        "colab": {
          "base_uri": "https://localhost:8080/",
          "height": 705
        },
        "outputId": "e64a35b6-d76a-4d73-96f9-22808ff5fe2c"
      },
      "outputs": [
        {
          "output_type": "stream",
          "name": "stdout",
          "text": [
            "<class 'pandas.core.frame.DataFrame'>\n",
            "RangeIndex: 110527 entries, 0 to 110526\n",
            "Data columns (total 14 columns):\n",
            " #   Column          Non-Null Count   Dtype  \n",
            "---  ------          --------------   -----  \n",
            " 0   PatientId       110527 non-null  float64\n",
            " 1   AppointmentID   110527 non-null  int64  \n",
            " 2   Gender          110527 non-null  object \n",
            " 3   ScheduledDay    110527 non-null  object \n",
            " 4   AppointmentDay  110527 non-null  object \n",
            " 5   Age             110527 non-null  int64  \n",
            " 6   Neighborhood    110527 non-null  object \n",
            " 7   Scholarship     110527 non-null  int64  \n",
            " 8   Hypertension    110527 non-null  int64  \n",
            " 9   Diabetes        110527 non-null  int64  \n",
            " 10  Alcoholism      110527 non-null  int64  \n",
            " 11  Handicap        110527 non-null  int64  \n",
            " 12  SMS_received    110527 non-null  int64  \n",
            " 13  No-show         110527 non-null  object \n",
            "dtypes: float64(1), int64(8), object(5)\n",
            "memory usage: 11.8+ MB\n"
          ]
        },
        {
          "output_type": "execute_result",
          "data": {
            "text/plain": [
              "      PatientId  AppointmentID Gender          ScheduledDay  \\\n",
              "0  2.987250e+13        5642903      F  2016-04-29T18:38:08Z   \n",
              "1  5.589980e+14        5642503      M  2016-04-29T16:08:27Z   \n",
              "2  4.262960e+12        5642549      F  2016-04-29T16:19:04Z   \n",
              "3  8.679510e+11        5642828      F  2016-04-29T17:29:31Z   \n",
              "4  8.841190e+12        5642494      F  2016-04-29T16:07:23Z   \n",
              "\n",
              "         AppointmentDay  Age       Neighborhood  Scholarship  Hypertension  \\\n",
              "0  2016-04-29T00:00:00Z   62    JARDIM DA PENHA            0             1   \n",
              "1  2016-04-29T00:00:00Z   56    JARDIM DA PENHA            0             0   \n",
              "2  2016-04-29T00:00:00Z   62      MATA DA PRAIA            0             0   \n",
              "3  2016-04-29T00:00:00Z    8  PONTAL DE CAMBURI            0             0   \n",
              "4  2016-04-29T00:00:00Z   56    JARDIM DA PENHA            0             1   \n",
              "\n",
              "   Diabetes  Alcoholism  Handicap  SMS_received No-show  \n",
              "0         0           0         0             0      No  \n",
              "1         0           0         0             0      No  \n",
              "2         0           0         0             0      No  \n",
              "3         0           0         0             0      No  \n",
              "4         1           0         0             0      No  "
            ],
            "text/html": [
              "\n",
              "  <div id=\"df-ec8ce133-25ec-473d-8f8f-f48afb1d30cb\" class=\"colab-df-container\">\n",
              "    <div>\n",
              "<style scoped>\n",
              "    .dataframe tbody tr th:only-of-type {\n",
              "        vertical-align: middle;\n",
              "    }\n",
              "\n",
              "    .dataframe tbody tr th {\n",
              "        vertical-align: top;\n",
              "    }\n",
              "\n",
              "    .dataframe thead th {\n",
              "        text-align: right;\n",
              "    }\n",
              "</style>\n",
              "<table border=\"1\" class=\"dataframe\">\n",
              "  <thead>\n",
              "    <tr style=\"text-align: right;\">\n",
              "      <th></th>\n",
              "      <th>PatientId</th>\n",
              "      <th>AppointmentID</th>\n",
              "      <th>Gender</th>\n",
              "      <th>ScheduledDay</th>\n",
              "      <th>AppointmentDay</th>\n",
              "      <th>Age</th>\n",
              "      <th>Neighborhood</th>\n",
              "      <th>Scholarship</th>\n",
              "      <th>Hypertension</th>\n",
              "      <th>Diabetes</th>\n",
              "      <th>Alcoholism</th>\n",
              "      <th>Handicap</th>\n",
              "      <th>SMS_received</th>\n",
              "      <th>No-show</th>\n",
              "    </tr>\n",
              "  </thead>\n",
              "  <tbody>\n",
              "    <tr>\n",
              "      <th>0</th>\n",
              "      <td>2.987250e+13</td>\n",
              "      <td>5642903</td>\n",
              "      <td>F</td>\n",
              "      <td>2016-04-29T18:38:08Z</td>\n",
              "      <td>2016-04-29T00:00:00Z</td>\n",
              "      <td>62</td>\n",
              "      <td>JARDIM DA PENHA</td>\n",
              "      <td>0</td>\n",
              "      <td>1</td>\n",
              "      <td>0</td>\n",
              "      <td>0</td>\n",
              "      <td>0</td>\n",
              "      <td>0</td>\n",
              "      <td>No</td>\n",
              "    </tr>\n",
              "    <tr>\n",
              "      <th>1</th>\n",
              "      <td>5.589980e+14</td>\n",
              "      <td>5642503</td>\n",
              "      <td>M</td>\n",
              "      <td>2016-04-29T16:08:27Z</td>\n",
              "      <td>2016-04-29T00:00:00Z</td>\n",
              "      <td>56</td>\n",
              "      <td>JARDIM DA PENHA</td>\n",
              "      <td>0</td>\n",
              "      <td>0</td>\n",
              "      <td>0</td>\n",
              "      <td>0</td>\n",
              "      <td>0</td>\n",
              "      <td>0</td>\n",
              "      <td>No</td>\n",
              "    </tr>\n",
              "    <tr>\n",
              "      <th>2</th>\n",
              "      <td>4.262960e+12</td>\n",
              "      <td>5642549</td>\n",
              "      <td>F</td>\n",
              "      <td>2016-04-29T16:19:04Z</td>\n",
              "      <td>2016-04-29T00:00:00Z</td>\n",
              "      <td>62</td>\n",
              "      <td>MATA DA PRAIA</td>\n",
              "      <td>0</td>\n",
              "      <td>0</td>\n",
              "      <td>0</td>\n",
              "      <td>0</td>\n",
              "      <td>0</td>\n",
              "      <td>0</td>\n",
              "      <td>No</td>\n",
              "    </tr>\n",
              "    <tr>\n",
              "      <th>3</th>\n",
              "      <td>8.679510e+11</td>\n",
              "      <td>5642828</td>\n",
              "      <td>F</td>\n",
              "      <td>2016-04-29T17:29:31Z</td>\n",
              "      <td>2016-04-29T00:00:00Z</td>\n",
              "      <td>8</td>\n",
              "      <td>PONTAL DE CAMBURI</td>\n",
              "      <td>0</td>\n",
              "      <td>0</td>\n",
              "      <td>0</td>\n",
              "      <td>0</td>\n",
              "      <td>0</td>\n",
              "      <td>0</td>\n",
              "      <td>No</td>\n",
              "    </tr>\n",
              "    <tr>\n",
              "      <th>4</th>\n",
              "      <td>8.841190e+12</td>\n",
              "      <td>5642494</td>\n",
              "      <td>F</td>\n",
              "      <td>2016-04-29T16:07:23Z</td>\n",
              "      <td>2016-04-29T00:00:00Z</td>\n",
              "      <td>56</td>\n",
              "      <td>JARDIM DA PENHA</td>\n",
              "      <td>0</td>\n",
              "      <td>1</td>\n",
              "      <td>1</td>\n",
              "      <td>0</td>\n",
              "      <td>0</td>\n",
              "      <td>0</td>\n",
              "      <td>No</td>\n",
              "    </tr>\n",
              "  </tbody>\n",
              "</table>\n",
              "</div>\n",
              "    <div class=\"colab-df-buttons\">\n",
              "\n",
              "  <div class=\"colab-df-container\">\n",
              "    <button class=\"colab-df-convert\" onclick=\"convertToInteractive('df-ec8ce133-25ec-473d-8f8f-f48afb1d30cb')\"\n",
              "            title=\"Convert this dataframe to an interactive table.\"\n",
              "            style=\"display:none;\">\n",
              "\n",
              "  <svg xmlns=\"http://www.w3.org/2000/svg\" height=\"24px\" viewBox=\"0 -960 960 960\">\n",
              "    <path d=\"M120-120v-720h720v720H120Zm60-500h600v-160H180v160Zm220 220h160v-160H400v160Zm0 220h160v-160H400v160ZM180-400h160v-160H180v160Zm440 0h160v-160H620v160ZM180-180h160v-160H180v160Zm440 0h160v-160H620v160Z\"/>\n",
              "  </svg>\n",
              "    </button>\n",
              "\n",
              "  <style>\n",
              "    .colab-df-container {\n",
              "      display:flex;\n",
              "      gap: 12px;\n",
              "    }\n",
              "\n",
              "    .colab-df-convert {\n",
              "      background-color: #E8F0FE;\n",
              "      border: none;\n",
              "      border-radius: 50%;\n",
              "      cursor: pointer;\n",
              "      display: none;\n",
              "      fill: #1967D2;\n",
              "      height: 32px;\n",
              "      padding: 0 0 0 0;\n",
              "      width: 32px;\n",
              "    }\n",
              "\n",
              "    .colab-df-convert:hover {\n",
              "      background-color: #E2EBFA;\n",
              "      box-shadow: 0px 1px 2px rgba(60, 64, 67, 0.3), 0px 1px 3px 1px rgba(60, 64, 67, 0.15);\n",
              "      fill: #174EA6;\n",
              "    }\n",
              "\n",
              "    .colab-df-buttons div {\n",
              "      margin-bottom: 4px;\n",
              "    }\n",
              "\n",
              "    [theme=dark] .colab-df-convert {\n",
              "      background-color: #3B4455;\n",
              "      fill: #D2E3FC;\n",
              "    }\n",
              "\n",
              "    [theme=dark] .colab-df-convert:hover {\n",
              "      background-color: #434B5C;\n",
              "      box-shadow: 0px 1px 3px 1px rgba(0, 0, 0, 0.15);\n",
              "      filter: drop-shadow(0px 1px 2px rgba(0, 0, 0, 0.3));\n",
              "      fill: #FFFFFF;\n",
              "    }\n",
              "  </style>\n",
              "\n",
              "    <script>\n",
              "      const buttonEl =\n",
              "        document.querySelector('#df-ec8ce133-25ec-473d-8f8f-f48afb1d30cb button.colab-df-convert');\n",
              "      buttonEl.style.display =\n",
              "        google.colab.kernel.accessAllowed ? 'block' : 'none';\n",
              "\n",
              "      async function convertToInteractive(key) {\n",
              "        const element = document.querySelector('#df-ec8ce133-25ec-473d-8f8f-f48afb1d30cb');\n",
              "        const dataTable =\n",
              "          await google.colab.kernel.invokeFunction('convertToInteractive',\n",
              "                                                    [key], {});\n",
              "        if (!dataTable) return;\n",
              "\n",
              "        const docLinkHtml = 'Like what you see? Visit the ' +\n",
              "          '<a target=\"_blank\" href=https://colab.research.google.com/notebooks/data_table.ipynb>data table notebook</a>'\n",
              "          + ' to learn more about interactive tables.';\n",
              "        element.innerHTML = '';\n",
              "        dataTable['output_type'] = 'display_data';\n",
              "        await google.colab.output.renderOutput(dataTable, element);\n",
              "        const docLink = document.createElement('div');\n",
              "        docLink.innerHTML = docLinkHtml;\n",
              "        element.appendChild(docLink);\n",
              "      }\n",
              "    </script>\n",
              "  </div>\n",
              "\n",
              "\n",
              "<div id=\"df-0bdcb31e-d8bc-401e-bae4-c8eb74cb144c\">\n",
              "  <button class=\"colab-df-quickchart\" onclick=\"quickchart('df-0bdcb31e-d8bc-401e-bae4-c8eb74cb144c')\"\n",
              "            title=\"Suggest charts\"\n",
              "            style=\"display:none;\">\n",
              "\n",
              "<svg xmlns=\"http://www.w3.org/2000/svg\" height=\"24px\"viewBox=\"0 0 24 24\"\n",
              "     width=\"24px\">\n",
              "    <g>\n",
              "        <path d=\"M19 3H5c-1.1 0-2 .9-2 2v14c0 1.1.9 2 2 2h14c1.1 0 2-.9 2-2V5c0-1.1-.9-2-2-2zM9 17H7v-7h2v7zm4 0h-2V7h2v10zm4 0h-2v-4h2v4z\"/>\n",
              "    </g>\n",
              "</svg>\n",
              "  </button>\n",
              "\n",
              "<style>\n",
              "  .colab-df-quickchart {\n",
              "      --bg-color: #E8F0FE;\n",
              "      --fill-color: #1967D2;\n",
              "      --hover-bg-color: #E2EBFA;\n",
              "      --hover-fill-color: #174EA6;\n",
              "      --disabled-fill-color: #AAA;\n",
              "      --disabled-bg-color: #DDD;\n",
              "  }\n",
              "\n",
              "  [theme=dark] .colab-df-quickchart {\n",
              "      --bg-color: #3B4455;\n",
              "      --fill-color: #D2E3FC;\n",
              "      --hover-bg-color: #434B5C;\n",
              "      --hover-fill-color: #FFFFFF;\n",
              "      --disabled-bg-color: #3B4455;\n",
              "      --disabled-fill-color: #666;\n",
              "  }\n",
              "\n",
              "  .colab-df-quickchart {\n",
              "    background-color: var(--bg-color);\n",
              "    border: none;\n",
              "    border-radius: 50%;\n",
              "    cursor: pointer;\n",
              "    display: none;\n",
              "    fill: var(--fill-color);\n",
              "    height: 32px;\n",
              "    padding: 0;\n",
              "    width: 32px;\n",
              "  }\n",
              "\n",
              "  .colab-df-quickchart:hover {\n",
              "    background-color: var(--hover-bg-color);\n",
              "    box-shadow: 0 1px 2px rgba(60, 64, 67, 0.3), 0 1px 3px 1px rgba(60, 64, 67, 0.15);\n",
              "    fill: var(--button-hover-fill-color);\n",
              "  }\n",
              "\n",
              "  .colab-df-quickchart-complete:disabled,\n",
              "  .colab-df-quickchart-complete:disabled:hover {\n",
              "    background-color: var(--disabled-bg-color);\n",
              "    fill: var(--disabled-fill-color);\n",
              "    box-shadow: none;\n",
              "  }\n",
              "\n",
              "  .colab-df-spinner {\n",
              "    border: 2px solid var(--fill-color);\n",
              "    border-color: transparent;\n",
              "    border-bottom-color: var(--fill-color);\n",
              "    animation:\n",
              "      spin 1s steps(1) infinite;\n",
              "  }\n",
              "\n",
              "  @keyframes spin {\n",
              "    0% {\n",
              "      border-color: transparent;\n",
              "      border-bottom-color: var(--fill-color);\n",
              "      border-left-color: var(--fill-color);\n",
              "    }\n",
              "    20% {\n",
              "      border-color: transparent;\n",
              "      border-left-color: var(--fill-color);\n",
              "      border-top-color: var(--fill-color);\n",
              "    }\n",
              "    30% {\n",
              "      border-color: transparent;\n",
              "      border-left-color: var(--fill-color);\n",
              "      border-top-color: var(--fill-color);\n",
              "      border-right-color: var(--fill-color);\n",
              "    }\n",
              "    40% {\n",
              "      border-color: transparent;\n",
              "      border-right-color: var(--fill-color);\n",
              "      border-top-color: var(--fill-color);\n",
              "    }\n",
              "    60% {\n",
              "      border-color: transparent;\n",
              "      border-right-color: var(--fill-color);\n",
              "    }\n",
              "    80% {\n",
              "      border-color: transparent;\n",
              "      border-right-color: var(--fill-color);\n",
              "      border-bottom-color: var(--fill-color);\n",
              "    }\n",
              "    90% {\n",
              "      border-color: transparent;\n",
              "      border-bottom-color: var(--fill-color);\n",
              "    }\n",
              "  }\n",
              "</style>\n",
              "\n",
              "  <script>\n",
              "    async function quickchart(key) {\n",
              "      const quickchartButtonEl =\n",
              "        document.querySelector('#' + key + ' button');\n",
              "      quickchartButtonEl.disabled = true;  // To prevent multiple clicks.\n",
              "      quickchartButtonEl.classList.add('colab-df-spinner');\n",
              "      try {\n",
              "        const charts = await google.colab.kernel.invokeFunction(\n",
              "            'suggestCharts', [key], {});\n",
              "      } catch (error) {\n",
              "        console.error('Error during call to suggestCharts:', error);\n",
              "      }\n",
              "      quickchartButtonEl.classList.remove('colab-df-spinner');\n",
              "      quickchartButtonEl.classList.add('colab-df-quickchart-complete');\n",
              "    }\n",
              "    (() => {\n",
              "      let quickchartButtonEl =\n",
              "        document.querySelector('#df-0bdcb31e-d8bc-401e-bae4-c8eb74cb144c button');\n",
              "      quickchartButtonEl.style.display =\n",
              "        google.colab.kernel.accessAllowed ? 'block' : 'none';\n",
              "    })();\n",
              "  </script>\n",
              "</div>\n",
              "\n",
              "    </div>\n",
              "  </div>\n"
            ],
            "application/vnd.google.colaboratory.intrinsic+json": {
              "type": "dataframe",
              "variable_name": "df"
            }
          },
          "metadata": {},
          "execution_count": 309
        }
      ],
      "source": [
        "df = pd.read_csv(data_path)\n",
        "df.info()\n",
        "df.head()"
      ]
    },
    {
      "cell_type": "markdown",
      "metadata": {
        "id": "ErywDcRSquQJ"
      },
      "source": [
        "Here's a brief summary of the variables you should see:\n",
        "\n",
        "1. PatientId - Identification of a patient.\n",
        "2. AppointmentID - Identification of each appointment.\n",
        "3. Gender - Male or female.\n",
        "4. ScheduledDay - The day someone called or registered the appointment.\n",
        "6. AppointmentDay - The day of the actual appointment, when the patient has to visit the doctor.\n",
        "7. Age = How old is the patient.\n",
        "8. Neighborhood - Place where the patient lives.\n",
        "9. Scholarship - Whether the patient receives financial help.\n",
        "10. Hypertension - Whether the patient suffers from hypertension.\n",
        "11. Diabetes - Whether the patient suffers from diabetes.\n",
        "12. Alcoholism - Whether the patient suffers from alcoholism.\n",
        "13. Handicap - Whether the patient is handicapped.\n",
        "14. SMS_received - Whether 1 or more SMS messages were sent to the patient\n",
        "15. No-show - Whether the patient missed the appointment."
      ]
    },
    {
      "cell_type": "markdown",
      "metadata": {
        "id": "x6hKBtJjquQK"
      },
      "source": [
        "**2. Check out if there are any Na or NaN values. If there are any, drop all the observations that include such values in any of the columns.** (This is not necessarily what you should do in your projects)"
      ]
    },
    {
      "cell_type": "code",
      "execution_count": 310,
      "metadata": {
        "collapsed": true,
        "id": "zfyDXnazquQL",
        "colab": {
          "base_uri": "https://localhost:8080/",
          "height": 0
        },
        "outputId": "c7da5460-ad72-45d7-f563-ed7689f63479"
      },
      "outputs": [
        {
          "output_type": "stream",
          "name": "stdout",
          "text": [
            "           PatientId  AppointmentID Gender          ScheduledDay  \\\n",
            "0       2.987250e+13        5642903      F  2016-04-29T18:38:08Z   \n",
            "1       5.589980e+14        5642503      M  2016-04-29T16:08:27Z   \n",
            "2       4.262960e+12        5642549      F  2016-04-29T16:19:04Z   \n",
            "3       8.679510e+11        5642828      F  2016-04-29T17:29:31Z   \n",
            "4       8.841190e+12        5642494      F  2016-04-29T16:07:23Z   \n",
            "...              ...            ...    ...                   ...   \n",
            "110522  2.572130e+12        5651768      F  2016-05-03T09:15:35Z   \n",
            "110523  3.596270e+12        5650093      F  2016-05-03T07:27:33Z   \n",
            "110524  1.557660e+13        5630692      F  2016-04-27T16:03:52Z   \n",
            "110525  9.213490e+13        5630323      F  2016-04-27T15:09:23Z   \n",
            "110526  3.775120e+14        5629448      F  2016-04-27T13:30:56Z   \n",
            "\n",
            "              AppointmentDay  Age       Neighborhood  Scholarship  \\\n",
            "0       2016-04-29T00:00:00Z   62    JARDIM DA PENHA            0   \n",
            "1       2016-04-29T00:00:00Z   56    JARDIM DA PENHA            0   \n",
            "2       2016-04-29T00:00:00Z   62      MATA DA PRAIA            0   \n",
            "3       2016-04-29T00:00:00Z    8  PONTAL DE CAMBURI            0   \n",
            "4       2016-04-29T00:00:00Z   56    JARDIM DA PENHA            0   \n",
            "...                      ...  ...                ...          ...   \n",
            "110522  2016-06-07T00:00:00Z   56        MARIA ORTIZ            0   \n",
            "110523  2016-06-07T00:00:00Z   51        MARIA ORTIZ            0   \n",
            "110524  2016-06-07T00:00:00Z   21        MARIA ORTIZ            0   \n",
            "110525  2016-06-07T00:00:00Z   38        MARIA ORTIZ            0   \n",
            "110526  2016-06-07T00:00:00Z   54        MARIA ORTIZ            0   \n",
            "\n",
            "        Hypertension  Diabetes  Alcoholism  Handicap  SMS_received No-show  \n",
            "0                  1         0           0         0             0      No  \n",
            "1                  0         0           0         0             0      No  \n",
            "2                  0         0           0         0             0      No  \n",
            "3                  0         0           0         0             0      No  \n",
            "4                  1         1           0         0             0      No  \n",
            "...              ...       ...         ...       ...           ...     ...  \n",
            "110522             0         0           0         0             1      No  \n",
            "110523             0         0           0         0             1      No  \n",
            "110524             0         0           0         0             1      No  \n",
            "110525             0         0           0         0             1      No  \n",
            "110526             0         0           0         0             1      No  \n",
            "\n",
            "[110527 rows x 14 columns]\n"
          ]
        }
      ],
      "source": [
        "NaN = df.isna()\n",
        "df = df.dropna()\n",
        "print(df)"
      ]
    },
    {
      "cell_type": "markdown",
      "metadata": {
        "id": "C6l4ZwVoquQL"
      },
      "source": [
        "### Dealing with dates\n",
        "\n",
        "**3. Transform ScheduledDay and AppointmentDay into datetimes (Hint: Use pandas for this).**"
      ]
    },
    {
      "cell_type": "code",
      "execution_count": 311,
      "metadata": {
        "collapsed": true,
        "id": "bedKxs8AquQM",
        "colab": {
          "base_uri": "https://localhost:8080/",
          "height": 0
        },
        "outputId": "2aca6004-08c4-4f0a-8461-72a5fc1e71b2"
      },
      "outputs": [
        {
          "output_type": "stream",
          "name": "stdout",
          "text": [
            "The schedule days are:\n",
            "0        2016-04-29 18:38:08+00:00\n",
            "1        2016-04-29 16:08:27+00:00\n",
            "2        2016-04-29 16:19:04+00:00\n",
            "3        2016-04-29 17:29:31+00:00\n",
            "4        2016-04-29 16:07:23+00:00\n",
            "                    ...           \n",
            "110522   2016-05-03 09:15:35+00:00\n",
            "110523   2016-05-03 07:27:33+00:00\n",
            "110524   2016-04-27 16:03:52+00:00\n",
            "110525   2016-04-27 15:09:23+00:00\n",
            "110526   2016-04-27 13:30:56+00:00\n",
            "Name: ScheduledDay, Length: 110527, dtype: datetime64[ns, UTC]\n",
            "\n",
            "The appointment days are:\n",
            "0        2016-04-29 00:00:00+00:00\n",
            "1        2016-04-29 00:00:00+00:00\n",
            "2        2016-04-29 00:00:00+00:00\n",
            "3        2016-04-29 00:00:00+00:00\n",
            "4        2016-04-29 00:00:00+00:00\n",
            "                    ...           \n",
            "110522   2016-06-07 00:00:00+00:00\n",
            "110523   2016-06-07 00:00:00+00:00\n",
            "110524   2016-06-07 00:00:00+00:00\n",
            "110525   2016-06-07 00:00:00+00:00\n",
            "110526   2016-06-07 00:00:00+00:00\n",
            "Name: AppointmentDay, Length: 110527, dtype: datetime64[ns, UTC]\n"
          ]
        }
      ],
      "source": [
        "df['ScheduledDay'] = pd.to_datetime(df['ScheduledDay'])\n",
        "df['AppointmentDay'] = pd.to_datetime(df['AppointmentDay'])\n",
        "\n",
        "print(\"The schedule days are:\")\n",
        "print(df['ScheduledDay'])\n",
        "\n",
        "print(\"\\nThe appointment days are:\")\n",
        "print(df['AppointmentDay'])\n"
      ]
    },
    {
      "cell_type": "markdown",
      "metadata": {
        "id": "iubdoGtHquQM"
      },
      "source": [
        "**4. If you take a look at both dates, you will see that ScheduledDay includes a specific time with the date, but AppointmentDay doesn't. In order to compare both fields more easily, apply \"normalize\" to ScheduledDay (i.e., keep only the dates). Hint: See the [normalize](https://pandas.pydata.org/pandas-docs/stable/generated/pandas.Series.dt.normalize.html) method.**"
      ]
    },
    {
      "cell_type": "code",
      "execution_count": 312,
      "metadata": {
        "collapsed": true,
        "id": "MmgkKRlGquQM",
        "colab": {
          "base_uri": "https://localhost:8080/",
          "height": 0
        },
        "outputId": "e0ff89e6-0986-48b5-85ab-9f9a411c3e50"
      },
      "outputs": [
        {
          "output_type": "execute_result",
          "data": {
            "text/plain": [
              "0        2016-04-29 00:00:00+00:00\n",
              "1        2016-04-29 00:00:00+00:00\n",
              "2        2016-04-29 00:00:00+00:00\n",
              "3        2016-04-29 00:00:00+00:00\n",
              "4        2016-04-29 00:00:00+00:00\n",
              "                    ...           \n",
              "110522   2016-05-03 00:00:00+00:00\n",
              "110523   2016-05-03 00:00:00+00:00\n",
              "110524   2016-04-27 00:00:00+00:00\n",
              "110525   2016-04-27 00:00:00+00:00\n",
              "110526   2016-04-27 00:00:00+00:00\n",
              "Name: ScheduledDay, Length: 110527, dtype: datetime64[ns, UTC]"
            ]
          },
          "metadata": {},
          "execution_count": 312
        }
      ],
      "source": [
        "df['ScheduledDay'] = df['ScheduledDay'].dt.normalize()\n",
        "df['ScheduledDay']"
      ]
    },
    {
      "cell_type": "markdown",
      "metadata": {
        "id": "7NYFhuCdquQN"
      },
      "source": [
        "**5. Create a new column called 'TimeInAdvance' for the difference in days between ScheduledDay and AppointmentDay. Make sure that the new field is numeric - and not of form \"TimeDelta\", which is the difference between two datetimes. (you can apply `dt.days`  to a datetime object to accomplish this).**"
      ]
    },
    {
      "cell_type": "code",
      "execution_count": 313,
      "metadata": {
        "collapsed": true,
        "id": "tBZ93SUoquQN",
        "colab": {
          "base_uri": "https://localhost:8080/",
          "height": 0
        },
        "outputId": "d6134265-06da-4ff4-e014-60c88065be7d"
      },
      "outputs": [
        {
          "output_type": "execute_result",
          "data": {
            "text/plain": [
              "0          0\n",
              "1          0\n",
              "2          0\n",
              "3          0\n",
              "4          0\n",
              "          ..\n",
              "110522    35\n",
              "110523    35\n",
              "110524    41\n",
              "110525    41\n",
              "110526    41\n",
              "Name: TimeInAdvance, Length: 110527, dtype: int64"
            ]
          },
          "metadata": {},
          "execution_count": 313
        }
      ],
      "source": [
        "df['TimeInAdvance'] = abs(df['ScheduledDay'] - df['AppointmentDay']).dt.days\n",
        "df['TimeInAdvance']"
      ]
    },
    {
      "cell_type": "markdown",
      "metadata": {
        "id": "grm21af-quQN"
      },
      "source": [
        "There are many other features you may want to extract from date variables, such as the time at which the appointment was scheduled, the day of the week, the month, etc. However, we will only use TimeInAdvance for the purposes of this homework."
      ]
    },
    {
      "cell_type": "markdown",
      "metadata": {
        "id": "vfz7DN2aquQO"
      },
      "source": [
        "### Cleaning data"
      ]
    },
    {
      "cell_type": "markdown",
      "metadata": {
        "id": "gjsdghivquQO"
      },
      "source": [
        "**6. Use the \"describe\" command from pandas to obtain some general stats about the data. Comment on any weird values you see in any of the columns? Remove all observations that include \"weird\" or otherwise questionable values and comment on why did you remove such observations. Also, print the number of observations you removed.**"
      ]
    },
    {
      "cell_type": "code",
      "execution_count": 314,
      "metadata": {
        "collapsed": true,
        "id": "JkZEDSsbquQO",
        "colab": {
          "base_uri": "https://localhost:8080/",
          "height": 300
        },
        "outputId": "e2990baf-1286-4122-ec31-36f43756522d"
      },
      "outputs": [
        {
          "output_type": "execute_result",
          "data": {
            "text/plain": [
              "          PatientId  AppointmentID            Age    Scholarship  \\\n",
              "count  1.105270e+05   1.105270e+05  110527.000000  110527.000000   \n",
              "mean   1.474963e+14   5.675305e+06      37.088874       0.098266   \n",
              "std    2.560949e+14   7.129575e+04      23.110205       0.297675   \n",
              "min    3.920000e+04   5.030230e+06      -1.000000       0.000000   \n",
              "25%    4.172615e+12   5.640286e+06      18.000000       0.000000   \n",
              "50%    3.173180e+13   5.680573e+06      37.000000       0.000000   \n",
              "75%    9.439170e+13   5.725524e+06      55.000000       0.000000   \n",
              "max    9.999820e+14   5.790484e+06     115.000000       1.000000   \n",
              "\n",
              "        Hypertension       Diabetes     Alcoholism       Handicap  \\\n",
              "count  110527.000000  110527.000000  110527.000000  110527.000000   \n",
              "mean        0.197246       0.071865       0.030400       0.022248   \n",
              "std         0.397921       0.258265       0.171686       0.161543   \n",
              "min         0.000000       0.000000       0.000000       0.000000   \n",
              "25%         0.000000       0.000000       0.000000       0.000000   \n",
              "50%         0.000000       0.000000       0.000000       0.000000   \n",
              "75%         0.000000       0.000000       0.000000       0.000000   \n",
              "max         1.000000       1.000000       1.000000       4.000000   \n",
              "\n",
              "        SMS_received  TimeInAdvance  \n",
              "count  110527.000000  110527.000000  \n",
              "mean        0.321026      10.183883  \n",
              "std         0.466873      15.254875  \n",
              "min         0.000000       0.000000  \n",
              "25%         0.000000       0.000000  \n",
              "50%         0.000000       4.000000  \n",
              "75%         1.000000      15.000000  \n",
              "max         1.000000     179.000000  "
            ],
            "text/html": [
              "\n",
              "  <div id=\"df-c5d4e0ba-7431-4aee-bee3-bd14ec70c483\" class=\"colab-df-container\">\n",
              "    <div>\n",
              "<style scoped>\n",
              "    .dataframe tbody tr th:only-of-type {\n",
              "        vertical-align: middle;\n",
              "    }\n",
              "\n",
              "    .dataframe tbody tr th {\n",
              "        vertical-align: top;\n",
              "    }\n",
              "\n",
              "    .dataframe thead th {\n",
              "        text-align: right;\n",
              "    }\n",
              "</style>\n",
              "<table border=\"1\" class=\"dataframe\">\n",
              "  <thead>\n",
              "    <tr style=\"text-align: right;\">\n",
              "      <th></th>\n",
              "      <th>PatientId</th>\n",
              "      <th>AppointmentID</th>\n",
              "      <th>Age</th>\n",
              "      <th>Scholarship</th>\n",
              "      <th>Hypertension</th>\n",
              "      <th>Diabetes</th>\n",
              "      <th>Alcoholism</th>\n",
              "      <th>Handicap</th>\n",
              "      <th>SMS_received</th>\n",
              "      <th>TimeInAdvance</th>\n",
              "    </tr>\n",
              "  </thead>\n",
              "  <tbody>\n",
              "    <tr>\n",
              "      <th>count</th>\n",
              "      <td>1.105270e+05</td>\n",
              "      <td>1.105270e+05</td>\n",
              "      <td>110527.000000</td>\n",
              "      <td>110527.000000</td>\n",
              "      <td>110527.000000</td>\n",
              "      <td>110527.000000</td>\n",
              "      <td>110527.000000</td>\n",
              "      <td>110527.000000</td>\n",
              "      <td>110527.000000</td>\n",
              "      <td>110527.000000</td>\n",
              "    </tr>\n",
              "    <tr>\n",
              "      <th>mean</th>\n",
              "      <td>1.474963e+14</td>\n",
              "      <td>5.675305e+06</td>\n",
              "      <td>37.088874</td>\n",
              "      <td>0.098266</td>\n",
              "      <td>0.197246</td>\n",
              "      <td>0.071865</td>\n",
              "      <td>0.030400</td>\n",
              "      <td>0.022248</td>\n",
              "      <td>0.321026</td>\n",
              "      <td>10.183883</td>\n",
              "    </tr>\n",
              "    <tr>\n",
              "      <th>std</th>\n",
              "      <td>2.560949e+14</td>\n",
              "      <td>7.129575e+04</td>\n",
              "      <td>23.110205</td>\n",
              "      <td>0.297675</td>\n",
              "      <td>0.397921</td>\n",
              "      <td>0.258265</td>\n",
              "      <td>0.171686</td>\n",
              "      <td>0.161543</td>\n",
              "      <td>0.466873</td>\n",
              "      <td>15.254875</td>\n",
              "    </tr>\n",
              "    <tr>\n",
              "      <th>min</th>\n",
              "      <td>3.920000e+04</td>\n",
              "      <td>5.030230e+06</td>\n",
              "      <td>-1.000000</td>\n",
              "      <td>0.000000</td>\n",
              "      <td>0.000000</td>\n",
              "      <td>0.000000</td>\n",
              "      <td>0.000000</td>\n",
              "      <td>0.000000</td>\n",
              "      <td>0.000000</td>\n",
              "      <td>0.000000</td>\n",
              "    </tr>\n",
              "    <tr>\n",
              "      <th>25%</th>\n",
              "      <td>4.172615e+12</td>\n",
              "      <td>5.640286e+06</td>\n",
              "      <td>18.000000</td>\n",
              "      <td>0.000000</td>\n",
              "      <td>0.000000</td>\n",
              "      <td>0.000000</td>\n",
              "      <td>0.000000</td>\n",
              "      <td>0.000000</td>\n",
              "      <td>0.000000</td>\n",
              "      <td>0.000000</td>\n",
              "    </tr>\n",
              "    <tr>\n",
              "      <th>50%</th>\n",
              "      <td>3.173180e+13</td>\n",
              "      <td>5.680573e+06</td>\n",
              "      <td>37.000000</td>\n",
              "      <td>0.000000</td>\n",
              "      <td>0.000000</td>\n",
              "      <td>0.000000</td>\n",
              "      <td>0.000000</td>\n",
              "      <td>0.000000</td>\n",
              "      <td>0.000000</td>\n",
              "      <td>4.000000</td>\n",
              "    </tr>\n",
              "    <tr>\n",
              "      <th>75%</th>\n",
              "      <td>9.439170e+13</td>\n",
              "      <td>5.725524e+06</td>\n",
              "      <td>55.000000</td>\n",
              "      <td>0.000000</td>\n",
              "      <td>0.000000</td>\n",
              "      <td>0.000000</td>\n",
              "      <td>0.000000</td>\n",
              "      <td>0.000000</td>\n",
              "      <td>1.000000</td>\n",
              "      <td>15.000000</td>\n",
              "    </tr>\n",
              "    <tr>\n",
              "      <th>max</th>\n",
              "      <td>9.999820e+14</td>\n",
              "      <td>5.790484e+06</td>\n",
              "      <td>115.000000</td>\n",
              "      <td>1.000000</td>\n",
              "      <td>1.000000</td>\n",
              "      <td>1.000000</td>\n",
              "      <td>1.000000</td>\n",
              "      <td>4.000000</td>\n",
              "      <td>1.000000</td>\n",
              "      <td>179.000000</td>\n",
              "    </tr>\n",
              "  </tbody>\n",
              "</table>\n",
              "</div>\n",
              "    <div class=\"colab-df-buttons\">\n",
              "\n",
              "  <div class=\"colab-df-container\">\n",
              "    <button class=\"colab-df-convert\" onclick=\"convertToInteractive('df-c5d4e0ba-7431-4aee-bee3-bd14ec70c483')\"\n",
              "            title=\"Convert this dataframe to an interactive table.\"\n",
              "            style=\"display:none;\">\n",
              "\n",
              "  <svg xmlns=\"http://www.w3.org/2000/svg\" height=\"24px\" viewBox=\"0 -960 960 960\">\n",
              "    <path d=\"M120-120v-720h720v720H120Zm60-500h600v-160H180v160Zm220 220h160v-160H400v160Zm0 220h160v-160H400v160ZM180-400h160v-160H180v160Zm440 0h160v-160H620v160ZM180-180h160v-160H180v160Zm440 0h160v-160H620v160Z\"/>\n",
              "  </svg>\n",
              "    </button>\n",
              "\n",
              "  <style>\n",
              "    .colab-df-container {\n",
              "      display:flex;\n",
              "      gap: 12px;\n",
              "    }\n",
              "\n",
              "    .colab-df-convert {\n",
              "      background-color: #E8F0FE;\n",
              "      border: none;\n",
              "      border-radius: 50%;\n",
              "      cursor: pointer;\n",
              "      display: none;\n",
              "      fill: #1967D2;\n",
              "      height: 32px;\n",
              "      padding: 0 0 0 0;\n",
              "      width: 32px;\n",
              "    }\n",
              "\n",
              "    .colab-df-convert:hover {\n",
              "      background-color: #E2EBFA;\n",
              "      box-shadow: 0px 1px 2px rgba(60, 64, 67, 0.3), 0px 1px 3px 1px rgba(60, 64, 67, 0.15);\n",
              "      fill: #174EA6;\n",
              "    }\n",
              "\n",
              "    .colab-df-buttons div {\n",
              "      margin-bottom: 4px;\n",
              "    }\n",
              "\n",
              "    [theme=dark] .colab-df-convert {\n",
              "      background-color: #3B4455;\n",
              "      fill: #D2E3FC;\n",
              "    }\n",
              "\n",
              "    [theme=dark] .colab-df-convert:hover {\n",
              "      background-color: #434B5C;\n",
              "      box-shadow: 0px 1px 3px 1px rgba(0, 0, 0, 0.15);\n",
              "      filter: drop-shadow(0px 1px 2px rgba(0, 0, 0, 0.3));\n",
              "      fill: #FFFFFF;\n",
              "    }\n",
              "  </style>\n",
              "\n",
              "    <script>\n",
              "      const buttonEl =\n",
              "        document.querySelector('#df-c5d4e0ba-7431-4aee-bee3-bd14ec70c483 button.colab-df-convert');\n",
              "      buttonEl.style.display =\n",
              "        google.colab.kernel.accessAllowed ? 'block' : 'none';\n",
              "\n",
              "      async function convertToInteractive(key) {\n",
              "        const element = document.querySelector('#df-c5d4e0ba-7431-4aee-bee3-bd14ec70c483');\n",
              "        const dataTable =\n",
              "          await google.colab.kernel.invokeFunction('convertToInteractive',\n",
              "                                                    [key], {});\n",
              "        if (!dataTable) return;\n",
              "\n",
              "        const docLinkHtml = 'Like what you see? Visit the ' +\n",
              "          '<a target=\"_blank\" href=https://colab.research.google.com/notebooks/data_table.ipynb>data table notebook</a>'\n",
              "          + ' to learn more about interactive tables.';\n",
              "        element.innerHTML = '';\n",
              "        dataTable['output_type'] = 'display_data';\n",
              "        await google.colab.output.renderOutput(dataTable, element);\n",
              "        const docLink = document.createElement('div');\n",
              "        docLink.innerHTML = docLinkHtml;\n",
              "        element.appendChild(docLink);\n",
              "      }\n",
              "    </script>\n",
              "  </div>\n",
              "\n",
              "\n",
              "<div id=\"df-2938e104-d0ef-4f8f-b245-143e184560d3\">\n",
              "  <button class=\"colab-df-quickchart\" onclick=\"quickchart('df-2938e104-d0ef-4f8f-b245-143e184560d3')\"\n",
              "            title=\"Suggest charts\"\n",
              "            style=\"display:none;\">\n",
              "\n",
              "<svg xmlns=\"http://www.w3.org/2000/svg\" height=\"24px\"viewBox=\"0 0 24 24\"\n",
              "     width=\"24px\">\n",
              "    <g>\n",
              "        <path d=\"M19 3H5c-1.1 0-2 .9-2 2v14c0 1.1.9 2 2 2h14c1.1 0 2-.9 2-2V5c0-1.1-.9-2-2-2zM9 17H7v-7h2v7zm4 0h-2V7h2v10zm4 0h-2v-4h2v4z\"/>\n",
              "    </g>\n",
              "</svg>\n",
              "  </button>\n",
              "\n",
              "<style>\n",
              "  .colab-df-quickchart {\n",
              "      --bg-color: #E8F0FE;\n",
              "      --fill-color: #1967D2;\n",
              "      --hover-bg-color: #E2EBFA;\n",
              "      --hover-fill-color: #174EA6;\n",
              "      --disabled-fill-color: #AAA;\n",
              "      --disabled-bg-color: #DDD;\n",
              "  }\n",
              "\n",
              "  [theme=dark] .colab-df-quickchart {\n",
              "      --bg-color: #3B4455;\n",
              "      --fill-color: #D2E3FC;\n",
              "      --hover-bg-color: #434B5C;\n",
              "      --hover-fill-color: #FFFFFF;\n",
              "      --disabled-bg-color: #3B4455;\n",
              "      --disabled-fill-color: #666;\n",
              "  }\n",
              "\n",
              "  .colab-df-quickchart {\n",
              "    background-color: var(--bg-color);\n",
              "    border: none;\n",
              "    border-radius: 50%;\n",
              "    cursor: pointer;\n",
              "    display: none;\n",
              "    fill: var(--fill-color);\n",
              "    height: 32px;\n",
              "    padding: 0;\n",
              "    width: 32px;\n",
              "  }\n",
              "\n",
              "  .colab-df-quickchart:hover {\n",
              "    background-color: var(--hover-bg-color);\n",
              "    box-shadow: 0 1px 2px rgba(60, 64, 67, 0.3), 0 1px 3px 1px rgba(60, 64, 67, 0.15);\n",
              "    fill: var(--button-hover-fill-color);\n",
              "  }\n",
              "\n",
              "  .colab-df-quickchart-complete:disabled,\n",
              "  .colab-df-quickchart-complete:disabled:hover {\n",
              "    background-color: var(--disabled-bg-color);\n",
              "    fill: var(--disabled-fill-color);\n",
              "    box-shadow: none;\n",
              "  }\n",
              "\n",
              "  .colab-df-spinner {\n",
              "    border: 2px solid var(--fill-color);\n",
              "    border-color: transparent;\n",
              "    border-bottom-color: var(--fill-color);\n",
              "    animation:\n",
              "      spin 1s steps(1) infinite;\n",
              "  }\n",
              "\n",
              "  @keyframes spin {\n",
              "    0% {\n",
              "      border-color: transparent;\n",
              "      border-bottom-color: var(--fill-color);\n",
              "      border-left-color: var(--fill-color);\n",
              "    }\n",
              "    20% {\n",
              "      border-color: transparent;\n",
              "      border-left-color: var(--fill-color);\n",
              "      border-top-color: var(--fill-color);\n",
              "    }\n",
              "    30% {\n",
              "      border-color: transparent;\n",
              "      border-left-color: var(--fill-color);\n",
              "      border-top-color: var(--fill-color);\n",
              "      border-right-color: var(--fill-color);\n",
              "    }\n",
              "    40% {\n",
              "      border-color: transparent;\n",
              "      border-right-color: var(--fill-color);\n",
              "      border-top-color: var(--fill-color);\n",
              "    }\n",
              "    60% {\n",
              "      border-color: transparent;\n",
              "      border-right-color: var(--fill-color);\n",
              "    }\n",
              "    80% {\n",
              "      border-color: transparent;\n",
              "      border-right-color: var(--fill-color);\n",
              "      border-bottom-color: var(--fill-color);\n",
              "    }\n",
              "    90% {\n",
              "      border-color: transparent;\n",
              "      border-bottom-color: var(--fill-color);\n",
              "    }\n",
              "  }\n",
              "</style>\n",
              "\n",
              "  <script>\n",
              "    async function quickchart(key) {\n",
              "      const quickchartButtonEl =\n",
              "        document.querySelector('#' + key + ' button');\n",
              "      quickchartButtonEl.disabled = true;  // To prevent multiple clicks.\n",
              "      quickchartButtonEl.classList.add('colab-df-spinner');\n",
              "      try {\n",
              "        const charts = await google.colab.kernel.invokeFunction(\n",
              "            'suggestCharts', [key], {});\n",
              "      } catch (error) {\n",
              "        console.error('Error during call to suggestCharts:', error);\n",
              "      }\n",
              "      quickchartButtonEl.classList.remove('colab-df-spinner');\n",
              "      quickchartButtonEl.classList.add('colab-df-quickchart-complete');\n",
              "    }\n",
              "    (() => {\n",
              "      let quickchartButtonEl =\n",
              "        document.querySelector('#df-2938e104-d0ef-4f8f-b245-143e184560d3 button');\n",
              "      quickchartButtonEl.style.display =\n",
              "        google.colab.kernel.accessAllowed ? 'block' : 'none';\n",
              "    })();\n",
              "  </script>\n",
              "</div>\n",
              "\n",
              "    </div>\n",
              "  </div>\n"
            ],
            "application/vnd.google.colaboratory.intrinsic+json": {
              "type": "dataframe",
              "summary": "{\n  \"name\": \"df\",\n  \"rows\": 8,\n  \"fields\": [\n    {\n      \"column\": \"PatientId\",\n      \"properties\": {\n        \"dtype\": \"number\",\n        \"std\": 338725233960909.4,\n        \"min\": 39200.0,\n        \"max\": 999982000000000.0,\n        \"num_unique_values\": 8,\n        \"samples\": [\n          147496266413470.34,\n          31731800000000.0,\n          110527.0\n        ],\n        \"semantic_type\": \"\",\n        \"description\": \"\"\n      }\n    },\n    {\n      \"column\": \"AppointmentID\",\n      \"properties\": {\n        \"dtype\": \"number\",\n        \"std\": 2556706.763895736,\n        \"min\": 71295.75153966925,\n        \"max\": 5790484.0,\n        \"num_unique_values\": 8,\n        \"samples\": [\n          5675305.123426855,\n          5680573.0,\n          110527.0\n        ],\n        \"semantic_type\": \"\",\n        \"description\": \"\"\n      }\n    },\n    {\n      \"column\": \"Age\",\n      \"properties\": {\n        \"dtype\": \"number\",\n        \"std\": 39062.856585792935,\n        \"min\": -1.0,\n        \"max\": 110527.0,\n        \"num_unique_values\": 8,\n        \"samples\": [\n          37.08887421173107,\n          37.0,\n          110527.0\n        ],\n        \"semantic_type\": \"\",\n        \"description\": \"\"\n      }\n    },\n    {\n      \"column\": \"Scholarship\",\n      \"properties\": {\n        \"dtype\": \"number\",\n        \"std\": 39077.1250979673,\n        \"min\": 0.0,\n        \"max\": 110527.0,\n        \"num_unique_values\": 5,\n        \"samples\": [\n          0.09826558216544373,\n          1.0,\n          0.2976747541093071\n        ],\n        \"semantic_type\": \"\",\n        \"description\": \"\"\n      }\n    },\n    {\n      \"column\": \"Hypertension\",\n      \"properties\": {\n        \"dtype\": \"number\",\n        \"std\": 39077.11503551283,\n        \"min\": 0.0,\n        \"max\": 110527.0,\n        \"num_unique_values\": 5,\n        \"samples\": [\n          0.1972459218109602,\n          1.0,\n          0.397921349947084\n        ],\n        \"semantic_type\": \"\",\n        \"description\": \"\"\n      }\n    },\n    {\n      \"column\": \"Diabetes\",\n      \"properties\": {\n        \"dtype\": \"number\",\n        \"std\": 39077.12842189655,\n        \"min\": 0.0,\n        \"max\": 110527.0,\n        \"num_unique_values\": 5,\n        \"samples\": [\n          0.07186479321794674,\n          1.0,\n          0.25826507350746697\n        ],\n        \"semantic_type\": \"\",\n        \"description\": \"\"\n      }\n    },\n    {\n      \"column\": \"Alcoholism\",\n      \"properties\": {\n        \"dtype\": \"number\",\n        \"std\": 39077.13488912927,\n        \"min\": 0.0,\n        \"max\": 110527.0,\n        \"num_unique_values\": 5,\n        \"samples\": [\n          0.030399811810688793,\n          1.0,\n          0.17168555541424485\n        ],\n        \"semantic_type\": \"\",\n        \"description\": \"\"\n      }\n    },\n    {\n      \"column\": \"Handicap\",\n      \"properties\": {\n        \"dtype\": \"number\",\n        \"std\": 39076.98431348664,\n        \"min\": 0.0,\n        \"max\": 110527.0,\n        \"num_unique_values\": 5,\n        \"samples\": [\n          0.022247957512643968,\n          4.0,\n          0.16154272581427898\n        ],\n        \"semantic_type\": \"\",\n        \"description\": \"\"\n      }\n    },\n    {\n      \"column\": \"SMS_received\",\n      \"properties\": {\n        \"dtype\": \"number\",\n        \"std\": 39077.054794184485,\n        \"min\": 0.0,\n        \"max\": 110527.0,\n        \"num_unique_values\": 5,\n        \"samples\": [\n          0.32102563174608917,\n          1.0,\n          0.46687273170186816\n        ],\n        \"semantic_type\": \"\",\n        \"description\": \"\"\n      }\n    },\n    {\n      \"column\": \"TimeInAdvance\",\n      \"properties\": {\n        \"dtype\": \"number\",\n        \"std\": 39065.95684001946,\n        \"min\": 0.0,\n        \"max\": 110527.0,\n        \"num_unique_values\": 7,\n        \"samples\": [\n          110527.0,\n          10.183882671202511,\n          15.0\n        ],\n        \"semantic_type\": \"\",\n        \"description\": \"\"\n      }\n    }\n  ]\n}"
            }
          },
          "metadata": {},
          "execution_count": 314
        }
      ],
      "source": [
        "df.describe()"
      ]
    },
    {
      "cell_type": "markdown",
      "source": [
        "**Weird value observations**</br>\n",
        "1. The min of `Age` is -1, the max is 115.\n",
        "2. `Handicap` should be 0 or 1 value, while the max is 4.\n",
        "3. `TimeInAdvance` has the max value 179, which looks like an outlier.\n",
        "\n",
        "</br>**Why remove the values**\n",
        "1. Remove age smaller than 0 because it is invalid\n",
        "2. Remove handicap 4 because it is invalid\n",
        "3. Remove `TimeInAdvance` is greater than 100, because they can be considered as outliers."
      ],
      "metadata": {
        "id": "nOfM8YprgMRy"
      }
    },
    {
      "cell_type": "code",
      "source": [
        "original_count = df.shape[0]\n",
        "df_filtered = df[(df['Age'] >= 0) & (df['Handicap'] <= 1) & (df['TimeInAdvance'] <= 100)]\n",
        "after_count = df_filtered.shape[0]\n",
        "\n",
        "print(\"Deleted entry number is:\")\n",
        "print(original_count - after_count)"
      ],
      "metadata": {
        "colab": {
          "base_uri": "https://localhost:8080/",
          "height": 0
        },
        "id": "DKnR7ptfh4R3",
        "outputId": "df2c1f3c-3432-4716-d40d-99971bad4464"
      },
      "execution_count": 315,
      "outputs": [
        {
          "output_type": "stream",
          "name": "stdout",
          "text": [
            "Deleted entry number is:\n",
            "338\n"
          ]
        }
      ]
    },
    {
      "cell_type": "markdown",
      "metadata": {
        "id": "FTh2wUPDquQP"
      },
      "source": [
        "### Dealing with binary variables"
      ]
    },
    {
      "cell_type": "markdown",
      "metadata": {
        "id": "MP4TFN9QquQP"
      },
      "source": [
        "**7. Create a new column called \"IsFemale\" that is 1 if the patient is female and 0 otherwise. Hint: Take a look at the [where](https://docs.scipy.org/doc/numpy-1.15.0/reference/generated/numpy.where.html) method. Make sure to also drop the Gender column.**"
      ]
    },
    {
      "cell_type": "code",
      "execution_count": 316,
      "metadata": {
        "collapsed": true,
        "id": "uadx9djzquQP",
        "colab": {
          "base_uri": "https://localhost:8080/",
          "height": 0
        },
        "outputId": "3f0cfcdd-f67e-425b-cacd-dcbbe0fe7a22"
      },
      "outputs": [
        {
          "output_type": "stream",
          "name": "stdout",
          "text": [
            "0         1\n",
            "1         0\n",
            "2         1\n",
            "3         1\n",
            "4         1\n",
            "         ..\n",
            "110522    1\n",
            "110523    1\n",
            "110524    1\n",
            "110525    1\n",
            "110526    1\n",
            "Name: IsFemale, Length: 110189, dtype: int64\n"
          ]
        },
        {
          "output_type": "stream",
          "name": "stderr",
          "text": [
            "<ipython-input-316-4e1ca36224ff>:2: SettingWithCopyWarning: \n",
            "A value is trying to be set on a copy of a slice from a DataFrame.\n",
            "Try using .loc[row_indexer,col_indexer] = value instead\n",
            "\n",
            "See the caveats in the documentation: https://pandas.pydata.org/pandas-docs/stable/user_guide/indexing.html#returning-a-view-versus-a-copy\n",
            "  df['IsFemale'] = np.where(df['Gender'] == 'F', 1, 0)\n"
          ]
        }
      ],
      "source": [
        "df = df_filtered\n",
        "df['IsFemale'] = np.where(df['Gender'] == 'F', 1, 0)\n",
        "print(df['IsFemale'])"
      ]
    },
    {
      "cell_type": "markdown",
      "metadata": {
        "id": "BKskkHfrquQP"
      },
      "source": [
        "**8. Do the same for the No-show variable. It should be 1 if the person didn't show and 0 otherwise.**"
      ]
    },
    {
      "cell_type": "code",
      "execution_count": 317,
      "metadata": {
        "collapsed": true,
        "id": "1sTT28XhquQQ",
        "colab": {
          "base_uri": "https://localhost:8080/",
          "height": 0
        },
        "outputId": "8d72e5db-5cb0-4e69-9e99-78bd7f3aa18f"
      },
      "outputs": [
        {
          "output_type": "stream",
          "name": "stdout",
          "text": [
            "0         0\n",
            "1         0\n",
            "2         0\n",
            "3         0\n",
            "4         0\n",
            "         ..\n",
            "110522    0\n",
            "110523    0\n",
            "110524    0\n",
            "110525    0\n",
            "110526    0\n",
            "Name: No-show, Length: 110189, dtype: int64\n"
          ]
        },
        {
          "output_type": "stream",
          "name": "stderr",
          "text": [
            "<ipython-input-317-456555c6ed76>:1: SettingWithCopyWarning: \n",
            "A value is trying to be set on a copy of a slice from a DataFrame.\n",
            "Try using .loc[row_indexer,col_indexer] = value instead\n",
            "\n",
            "See the caveats in the documentation: https://pandas.pydata.org/pandas-docs/stable/user_guide/indexing.html#returning-a-view-versus-a-copy\n",
            "  df['No-show'] = np.where(df['No-show'] == 'Yes', 1, 0)\n"
          ]
        }
      ],
      "source": [
        "df['No-show'] = np.where(df['No-show'] == 'Yes', 1, 0)\n",
        "print(df['No-show'])"
      ]
    },
    {
      "cell_type": "markdown",
      "metadata": {
        "id": "po044eMAquQQ"
      },
      "source": [
        "### Dealing with categorical variables\n",
        "\n",
        "**9. Let's take a look at the Neighbordhood column. How many unique neighborhoods are there? Which are the 5 most common neighborhoods? Which are the 5 least common ones?**"
      ]
    },
    {
      "cell_type": "code",
      "execution_count": 318,
      "metadata": {
        "collapsed": true,
        "id": "XlBA-cUWquQQ",
        "colab": {
          "base_uri": "https://localhost:8080/",
          "height": 0
        },
        "outputId": "adef0b6d-8135-4f58-fa82-ffa0412fce6f"
      },
      "outputs": [
        {
          "output_type": "stream",
          "name": "stdout",
          "text": [
            "There are 81 unique neighborhoods.\n",
            "\n",
            "The 5 most common ones are:\n",
            "JARDIM CAMBURI     7713\n",
            "MARIA ORTIZ        5804\n",
            "RESISTÊNCIA        4411\n",
            "JARDIM DA PENHA    3870\n",
            "ITARARÉ            3507\n",
            "Name: Neighborhood, dtype: int64\n",
            "\n",
            "The 5 lease common ones are:\n",
            "ILHA DO BOI                    35\n",
            "ILHA DO FRADE                  10\n",
            "AEROPORTO                       8\n",
            "ILHAS OCEÂNICAS DE TRINDADE     2\n",
            "PARQUE INDUSTRIAL               1\n",
            "Name: Neighborhood, dtype: int64\n"
          ]
        }
      ],
      "source": [
        "unique_neighborhoods = df['Neighborhood'].nunique()\n",
        "print(f\"There are {unique_neighborhoods} unique neighborhoods.\")\n",
        "\n",
        "print(\"\\nThe 5 most common ones are:\")\n",
        "most_df = df['Neighborhood'].value_counts().head(5)\n",
        "print(most_df)\n",
        "\n",
        "print(\"\\nThe 5 lease common ones are:\")\n",
        "least_df = df['Neighborhood'].value_counts().tail(5)\n",
        "print(least_df)"
      ]
    },
    {
      "cell_type": "markdown",
      "metadata": {
        "id": "i1wDioVkquQQ"
      },
      "source": [
        "**10. We often group together categories that are very rare because it's hard to generalize from them. Use .value_counts to find the total in each neighborhood.  Then, for the neighborhoods that appear less than 2000 times in the dataset replace their name with \"OTHER\". (Code provided below:)**"
      ]
    },
    {
      "cell_type": "code",
      "execution_count": 319,
      "metadata": {
        "collapsed": true,
        "id": "02fOXjpjquQQ",
        "colab": {
          "base_uri": "https://localhost:8080/",
          "height": 0
        },
        "outputId": "37e33321-fe22-4bf5-9c84-2a615535d99f"
      },
      "outputs": [
        {
          "output_type": "execute_result",
          "data": {
            "text/plain": [
              "OTHER                43691\n",
              "JARDIM CAMBURI        7713\n",
              "MARIA ORTIZ           5804\n",
              "RESISTÊNCIA           4411\n",
              "JARDIM DA PENHA       3870\n",
              "ITARARÉ               3507\n",
              "CENTRO                3327\n",
              "TABUAZEIRO            3123\n",
              "SANTA MARTHA          3113\n",
              "JESUS DE NAZARETH     2851\n",
              "BONFIM                2769\n",
              "SANTO ANTÔNIO         2744\n",
              "CARATOÍRA             2561\n",
              "SANTO ANDRÉ           2560\n",
              "JABOUR                2508\n",
              "SÃO PEDRO             2433\n",
              "NOVA PALESTINA        2261\n",
              "ILHA DO PRÍNCIPE      2258\n",
              "ANDORINHAS            2255\n",
              "DA PENHA              2209\n",
              "ROMÃO                 2204\n",
              "GURIGICA              2017\n",
              "Name: Neighborhood, dtype: int64"
            ]
          },
          "metadata": {},
          "execution_count": 319
        }
      ],
      "source": [
        "## sample code - make sure to replace \"df\" with your data frame name if needed\n",
        "counts = df['Neighborhood'].value_counts()\n",
        "minor = counts[counts < 2000].index.tolist()\n",
        "df.loc[df['Neighborhood'].isin(minor), 'Neighborhood'] = 'OTHER'\n",
        "df['Neighborhood'].value_counts()"
      ]
    },
    {
      "cell_type": "markdown",
      "metadata": {
        "id": "IdOmVDnOquQR"
      },
      "source": [
        "**11. Get dummy/indicator variables for each neighborhood and add them to the dataframe. Hint: Take a look at the [get_dummies](https://pandas.pydata.org/pandas-docs/stable/generated/pandas.get_dummies.html) method (note - in class we discussed the need to create k-1 dummies if there are k categories when doing regression.  We do NOT have to do this with trees.  Tree models do not require creation of a baseline dummy variable - so you can use drop_first=False with `get_dummies`, which is the default.). Make sure to add the dummies to your data frame, and also drop the Neighborhood column once the dummies are created.**"
      ]
    },
    {
      "cell_type": "code",
      "execution_count": 320,
      "metadata": {
        "collapsed": true,
        "id": "LDXvf6s4quQR",
        "colab": {
          "base_uri": "https://localhost:8080/",
          "height": 0
        },
        "outputId": "c3463745-2a9d-4be8-ba07-9075ff417ed6"
      },
      "outputs": [
        {
          "output_type": "stream",
          "name": "stdout",
          "text": [
            "<class 'pandas.core.frame.DataFrame'>\n",
            "Int64Index: 110189 entries, 0 to 110526\n",
            "Data columns (total 37 columns):\n",
            " #   Column                          Non-Null Count   Dtype              \n",
            "---  ------                          --------------   -----              \n",
            " 0   PatientId                       110189 non-null  float64            \n",
            " 1   AppointmentID                   110189 non-null  int64              \n",
            " 2   Gender                          110189 non-null  object             \n",
            " 3   ScheduledDay                    110189 non-null  datetime64[ns, UTC]\n",
            " 4   AppointmentDay                  110189 non-null  datetime64[ns, UTC]\n",
            " 5   Age                             110189 non-null  int64              \n",
            " 6   Scholarship                     110189 non-null  int64              \n",
            " 7   Hypertension                    110189 non-null  int64              \n",
            " 8   Diabetes                        110189 non-null  int64              \n",
            " 9   Alcoholism                      110189 non-null  int64              \n",
            " 10  Handicap                        110189 non-null  int64              \n",
            " 11  SMS_received                    110189 non-null  int64              \n",
            " 12  No-show                         110189 non-null  int64              \n",
            " 13  TimeInAdvance                   110189 non-null  int64              \n",
            " 14  IsFemale                        110189 non-null  int64              \n",
            " 15  Neighborhood_ANDORINHAS         110189 non-null  uint8              \n",
            " 16  Neighborhood_BONFIM             110189 non-null  uint8              \n",
            " 17  Neighborhood_CARATOÍRA          110189 non-null  uint8              \n",
            " 18  Neighborhood_CENTRO             110189 non-null  uint8              \n",
            " 19  Neighborhood_DA PENHA           110189 non-null  uint8              \n",
            " 20  Neighborhood_GURIGICA           110189 non-null  uint8              \n",
            " 21  Neighborhood_ILHA DO PRÍNCIPE   110189 non-null  uint8              \n",
            " 22  Neighborhood_ITARARÉ            110189 non-null  uint8              \n",
            " 23  Neighborhood_JABOUR             110189 non-null  uint8              \n",
            " 24  Neighborhood_JARDIM CAMBURI     110189 non-null  uint8              \n",
            " 25  Neighborhood_JARDIM DA PENHA    110189 non-null  uint8              \n",
            " 26  Neighborhood_JESUS DE NAZARETH  110189 non-null  uint8              \n",
            " 27  Neighborhood_MARIA ORTIZ        110189 non-null  uint8              \n",
            " 28  Neighborhood_NOVA PALESTINA     110189 non-null  uint8              \n",
            " 29  Neighborhood_OTHER              110189 non-null  uint8              \n",
            " 30  Neighborhood_RESISTÊNCIA        110189 non-null  uint8              \n",
            " 31  Neighborhood_ROMÃO              110189 non-null  uint8              \n",
            " 32  Neighborhood_SANTA MARTHA       110189 non-null  uint8              \n",
            " 33  Neighborhood_SANTO ANDRÉ        110189 non-null  uint8              \n",
            " 34  Neighborhood_SANTO ANTÔNIO      110189 non-null  uint8              \n",
            " 35  Neighborhood_SÃO PEDRO          110189 non-null  uint8              \n",
            " 36  Neighborhood_TABUAZEIRO         110189 non-null  uint8              \n",
            "dtypes: datetime64[ns, UTC](2), float64(1), int64(11), object(1), uint8(22)\n",
            "memory usage: 15.8+ MB\n"
          ]
        }
      ],
      "source": [
        "dummies = pd.get_dummies(df['Neighborhood'], prefix='Neighborhood')\n",
        "df_with_dummies = pd.concat([df, dummies], axis = 1)\n",
        "df_with_dummies.drop('Neighborhood', axis=1, inplace=True)\n",
        "df_with_dummies.info()"
      ]
    },
    {
      "cell_type": "markdown",
      "metadata": {
        "id": "y5uVkHwoquQR"
      },
      "source": [
        "### Dealing with panel data\n"
      ]
    },
    {
      "cell_type": "markdown",
      "metadata": {
        "id": "2JdCMjTUquQR"
      },
      "source": [
        "There are many patients that have made more than one appointment. Panel data (also called longitudinal data) contain observations for the same individuals over multiple periods of time. In our particuclar case, such data may help us to make better predictions.\n",
        "\n",
        "For example, the fact that a patient has failed to show up in the past may be predictive of the patient not showing up in the future. We want to create a variable that calculates the number of no_shows BEFORE the current appointment..this is advanced so we give you the code to create this attribute."
      ]
    },
    {
      "cell_type": "markdown",
      "metadata": {
        "id": "yHhNkLiTquQR"
      },
      "source": [
        "**12. Create a new column called \"PreviousNoShows\" that for each appointment includes the number of past appointments to which the patient did not show. For example, if the person did not show to the first meeting, PreviousNoShows should be 0 for the first appointment and 1 for the second one (if there is any). (Code provided: Sort the dataframe by PatientID and ScheduledDay. Then, group by PatientID and compute the cumulative sum of the No-show variable)**"
      ]
    },
    {
      "cell_type": "code",
      "execution_count": 321,
      "metadata": {
        "collapsed": true,
        "id": "HNG8kVFKquQS",
        "colab": {
          "base_uri": "https://localhost:8080/",
          "height": 0
        },
        "outputId": "7e5917ec-6ca1-4d4a-e089-024d1c106f99"
      },
      "outputs": [
        {
          "output_type": "stream",
          "name": "stdout",
          "text": [
            "count    110189.000000\n",
            "mean          0.435869\n",
            "std           0.820452\n",
            "min           0.000000\n",
            "25%           0.000000\n",
            "50%           0.000000\n",
            "75%           1.000000\n",
            "max          18.000000\n",
            "Name: PreviousNoShows, dtype: float64\n"
          ]
        }
      ],
      "source": [
        "df = df_with_dummies\n",
        "df = df.sort_values(['PatientId', 'ScheduledDay'])\n",
        "df['PreviousNoShows'] = df.groupby(['PatientId'])['No-show'].cumsum()\n",
        "print(df['PreviousNoShows'].describe())"
      ]
    },
    {
      "cell_type": "markdown",
      "metadata": {
        "id": "uocC_E2MquQS"
      },
      "source": [
        "There are many other features we could compute with this data set, such as time between appointments, number of past appointments, fraction of appointments to which the patient did not show up, etc. However, for the purposes of this homework, we will only work with PreviousNoShows."
      ]
    },
    {
      "cell_type": "markdown",
      "metadata": {
        "id": "pOgI0n4KquQS"
      },
      "source": [
        "### Removing the unnecessary\n",
        "\n",
        "**13. Let's drop the columns we won't be needing. Drop PatientId, AppointmentID, ScheduledDay, AppointmentDay.**"
      ]
    },
    {
      "cell_type": "code",
      "execution_count": 322,
      "metadata": {
        "collapsed": true,
        "id": "cOmTlUAYquQS",
        "colab": {
          "base_uri": "https://localhost:8080/",
          "height": 0
        },
        "outputId": "6e212440-ad40-4619-ebdb-c122e17a0e38"
      },
      "outputs": [
        {
          "output_type": "stream",
          "name": "stdout",
          "text": [
            "<class 'pandas.core.frame.DataFrame'>\n",
            "Int64Index: 110189 entries, 100517 to 76224\n",
            "Data columns (total 34 columns):\n",
            " #   Column                          Non-Null Count   Dtype \n",
            "---  ------                          --------------   ----- \n",
            " 0   Gender                          110189 non-null  object\n",
            " 1   Age                             110189 non-null  int64 \n",
            " 2   Scholarship                     110189 non-null  int64 \n",
            " 3   Hypertension                    110189 non-null  int64 \n",
            " 4   Diabetes                        110189 non-null  int64 \n",
            " 5   Alcoholism                      110189 non-null  int64 \n",
            " 6   Handicap                        110189 non-null  int64 \n",
            " 7   SMS_received                    110189 non-null  int64 \n",
            " 8   No-show                         110189 non-null  int64 \n",
            " 9   TimeInAdvance                   110189 non-null  int64 \n",
            " 10  IsFemale                        110189 non-null  int64 \n",
            " 11  Neighborhood_ANDORINHAS         110189 non-null  uint8 \n",
            " 12  Neighborhood_BONFIM             110189 non-null  uint8 \n",
            " 13  Neighborhood_CARATOÍRA          110189 non-null  uint8 \n",
            " 14  Neighborhood_CENTRO             110189 non-null  uint8 \n",
            " 15  Neighborhood_DA PENHA           110189 non-null  uint8 \n",
            " 16  Neighborhood_GURIGICA           110189 non-null  uint8 \n",
            " 17  Neighborhood_ILHA DO PRÍNCIPE   110189 non-null  uint8 \n",
            " 18  Neighborhood_ITARARÉ            110189 non-null  uint8 \n",
            " 19  Neighborhood_JABOUR             110189 non-null  uint8 \n",
            " 20  Neighborhood_JARDIM CAMBURI     110189 non-null  uint8 \n",
            " 21  Neighborhood_JARDIM DA PENHA    110189 non-null  uint8 \n",
            " 22  Neighborhood_JESUS DE NAZARETH  110189 non-null  uint8 \n",
            " 23  Neighborhood_MARIA ORTIZ        110189 non-null  uint8 \n",
            " 24  Neighborhood_NOVA PALESTINA     110189 non-null  uint8 \n",
            " 25  Neighborhood_OTHER              110189 non-null  uint8 \n",
            " 26  Neighborhood_RESISTÊNCIA        110189 non-null  uint8 \n",
            " 27  Neighborhood_ROMÃO              110189 non-null  uint8 \n",
            " 28  Neighborhood_SANTA MARTHA       110189 non-null  uint8 \n",
            " 29  Neighborhood_SANTO ANDRÉ        110189 non-null  uint8 \n",
            " 30  Neighborhood_SANTO ANTÔNIO      110189 non-null  uint8 \n",
            " 31  Neighborhood_SÃO PEDRO          110189 non-null  uint8 \n",
            " 32  Neighborhood_TABUAZEIRO         110189 non-null  uint8 \n",
            " 33  PreviousNoShows                 110189 non-null  int64 \n",
            "dtypes: int64(11), object(1), uint8(22)\n",
            "memory usage: 13.2+ MB\n"
          ]
        }
      ],
      "source": [
        "df_drop = df.drop(columns=['PatientId', 'AppointmentID', 'ScheduledDay', 'AppointmentDay'])\n",
        "df_drop.info()"
      ]
    },
    {
      "cell_type": "markdown",
      "metadata": {
        "id": "ncq5mqQPquQT"
      },
      "source": [
        "### Predictive modeling\n",
        "\n",
        "**14. Let's build a model to predict No-Show using a DecisionTreeClassifier. First, split the data into training and test (80/20) - using `random_state=123`.  Using max_depth=3, fit the DecisionTreeClassifier to the training set, and report the accuracy on the training set and the test set.**\n"
      ]
    },
    {
      "cell_type": "code",
      "execution_count": 323,
      "metadata": {
        "collapsed": true,
        "id": "FHS_WvB5quQT"
      },
      "outputs": [],
      "source": [
        "from sklearn.tree import DecisionTreeClassifier, plot_tree\n",
        "from sklearn.model_selection import cross_val_score\n",
        "from sklearn.model_selection import train_test_split\n",
        "from sklearn.metrics import precision_score, recall_score, accuracy_score"
      ]
    },
    {
      "cell_type": "code",
      "source": [
        "df = df_drop\n",
        "df = df.drop(columns=['Gender'])\n",
        "X = df.drop('No-show', axis=1)\n",
        "y = df['No-show']\n",
        "X_train, X_test, y_train, y_test = train_test_split(X, y, test_size=0.2, random_state=123)\n",
        "\n",
        "decisionTree = DecisionTreeClassifier(max_depth=3)\n",
        "pred = decisionTree.fit(X_train, y_train)\n",
        "predictions = pred.predict(X_test)\n",
        "accuracy = accuracy_score(y_test, predictions).round(3)\n",
        "print(f\"Accuracy: {accuracy}\")"
      ],
      "metadata": {
        "colab": {
          "base_uri": "https://localhost:8080/",
          "height": 0
        },
        "id": "oem6uKkSNRCT",
        "outputId": "ebfe4315-a95e-4b5e-c10c-d7b938e44ac2"
      },
      "execution_count": 333,
      "outputs": [
        {
          "output_type": "stream",
          "name": "stdout",
          "text": [
            "Accuracy: 0.924\n"
          ]
        }
      ]
    },
    {
      "cell_type": "markdown",
      "metadata": {
        "id": "ZoVO27AuquQT"
      },
      "source": [
        "**15. Now lets do 5-fold cross validation by calling cross_val_score with the FULL X and y data (the function does the splitting and fitting for us). Use the option `scoring=\"accuracy\"`.  Find the mean accuracy of the 5 numbers returned.**"
      ]
    },
    {
      "cell_type": "code",
      "source": [
        "cv_score = cross_val_score(decisionTree, X, y, scoring=\"accuracy\", cv=5)\n",
        "cv_score.mean().round(3)"
      ],
      "metadata": {
        "id": "yH8XJgeTh0Ix",
        "colab": {
          "base_uri": "https://localhost:8080/",
          "height": 0
        },
        "outputId": "28787d38-37f6-4416-9b01-ed35ee4c2a4b"
      },
      "execution_count": 334,
      "outputs": [
        {
          "output_type": "execute_result",
          "data": {
            "text/plain": [
              "0.923"
            ]
          },
          "metadata": {},
          "execution_count": 334
        }
      ]
    },
    {
      "cell_type": "markdown",
      "source": [
        "**16. Lets see what is the optimal depth for this tree. Create a for-loop that cycles over all max_depth values between 2 and 15 and prints out the mean cross-validated test accuracy for each value of max_depth.  Which value of max_depth has the highest cross-validated accuracy?**"
      ],
      "metadata": {
        "id": "xyZImqt_hd-r"
      }
    },
    {
      "cell_type": "code",
      "execution_count": 326,
      "metadata": {
        "collapsed": true,
        "id": "c2XTU5EUquQU",
        "colab": {
          "base_uri": "https://localhost:8080/",
          "height": 0
        },
        "outputId": "23e54ac1-2efa-463f-b832-26b70dd26c37"
      },
      "outputs": [
        {
          "output_type": "stream",
          "name": "stdout",
          "text": [
            "Depth: 2, mean accuracy: 0.922\n",
            "Depth: 3, mean accuracy: 0.923\n",
            "Depth: 4, mean accuracy: 0.923\n",
            "Depth: 5, mean accuracy: 0.923\n",
            "Depth: 6, mean accuracy: 0.923\n",
            "Depth: 7, mean accuracy: 0.923\n",
            "Depth: 8, mean accuracy: 0.922\n",
            "Depth: 9, mean accuracy: 0.921\n",
            "Depth: 10, mean accuracy: 0.92\n",
            "Depth: 11, mean accuracy: 0.918\n",
            "Depth: 12, mean accuracy: 0.917\n",
            "Depth: 13, mean accuracy: 0.917\n",
            "Depth: 14, mean accuracy: 0.915\n",
            "Depth: 15, mean accuracy: 0.914\n"
          ]
        }
      ],
      "source": [
        "max_depth = 2\n",
        "max_acc = 0\n",
        "\n",
        "for depth in range(2,16):\n",
        "  decisionTree = DecisionTreeClassifier(max_depth=depth)\n",
        "  cv_score = cross_val_score(decisionTree, X, y, scoring=\"accuracy\", cv=5).mean().round(3)\n",
        "  if cv_score > max_acc:\n",
        "    max_acc = cv_score\n",
        "    max_depth = depth\n",
        "  print(f\"Depth: {depth}, mean accuracy: {cv_score.mean()}\")"
      ]
    },
    {
      "cell_type": "code",
      "source": [
        "print(f\"Depth of {max_depth} has the higest mean accuracy of {max_acc}.\")"
      ],
      "metadata": {
        "colab": {
          "base_uri": "https://localhost:8080/",
          "height": 0
        },
        "id": "VhzySa7vSF-f",
        "outputId": "a5639b6e-8f46-4c7a-fe0b-f91122ef31c5"
      },
      "execution_count": 327,
      "outputs": [
        {
          "output_type": "stream",
          "name": "stdout",
          "text": [
            "Depth of 3 has the higest mean accuracy of 0.923.\n"
          ]
        }
      ]
    },
    {
      "cell_type": "markdown",
      "source": [
        "**16b (Extra Credit) : Using the same for-loop, output for each level of max_depth the trainging accuracy, test accuracy, and cross_val accuracy.  Make a plot of depth(X-axis) vs accuracy(Y-axis) with three lines for (train, test, and cv) accuracy.   Interpret what you see.**\n"
      ],
      "metadata": {
        "id": "D226uunElfAx"
      }
    },
    {
      "cell_type": "code",
      "source": [
        "max_depth = 2\n",
        "max_acc = 0\n",
        "\n",
        "depths = []\n",
        "train = []\n",
        "test = []\n",
        "cv = []\n",
        "\n",
        "for depth in range(2,16):\n",
        "  decisionTree = DecisionTreeClassifier(max_depth=depth)\n",
        "  depths.append(depth)\n",
        "\n",
        "  # train test\n",
        "  X_train, X_test, y_train, y_test = train_test_split(X, y, test_size=0.2, random_state=123)\n",
        "  model = decisionTree.fit(X_train, y_train)\n",
        "  predictions_train = model.predict(X_train)\n",
        "  predictions_test = model.predict(X_test)\n",
        "\n",
        "  train_acc = accuracy_score(y_train, predictions_train)\n",
        "  test_acc = accuracy_score(y_test, predictions_test)\n",
        "\n",
        "  train.append(train_acc)\n",
        "  test.append(test_acc)\n",
        "\n",
        "  # Cross-val\n",
        "  cv_score = cross_val_score(decisionTree, X, y, scoring=\"accuracy\", cv=5).mean()\n",
        "  cv.append(cv_score)\n",
        "  if cv_score > max_acc:\n",
        "    max_acc = cv_score\n",
        "    max_depth = depth\n",
        "\n",
        "plt.plot(depths, train, label='train_acc')\n",
        "plt.plot(depths, test, label='test_acc')\n",
        "plt.plot(depths, cv, label='cv_acc')\n",
        "\n",
        "plt.title(\"Tree depth - accuracy\")\n",
        "plt.xlabel('Depth of Decision Tree')\n",
        "plt.ylabel('Accuracy')\n",
        "plt.legend()\n",
        "plt.show()"
      ],
      "metadata": {
        "id": "jLagFkjreppv",
        "colab": {
          "base_uri": "https://localhost:8080/",
          "height": 472
        },
        "outputId": "d9901cb7-0ffe-408c-febb-7533c0e36cc3"
      },
      "execution_count": 328,
      "outputs": [
        {
          "output_type": "display_data",
          "data": {
            "text/plain": [
              "<Figure size 640x480 with 1 Axes>"
            ],
            "image/png": "[encoded data removed]"
          },
          "metadata": {}
        }
      ]
    },
    {
      "cell_type": "markdown",
      "source": [
        "**17.  Fit the tree model (again) using the optimal depth.  Create the 2x2 confusion matrix using the predictions on the test set, vs the true values of the test set (Y_test).**"
      ],
      "metadata": {
        "id": "Cbt3Gmanir7L"
      }
    },
    {
      "cell_type": "code",
      "source": [
        "from sklearn.metrics import confusion_matrix\n",
        "import seaborn as sns\n",
        "# Highest accuracy depth 4 is shown in [262]\n",
        "decisionTree = DecisionTreeClassifier(max_depth=depth)\n",
        "model = decisionTree.fit(X_train, y_train)\n",
        "predictions = model.predict(X_test)\n",
        "\n",
        "# Create a confusion matrix\n",
        "# 1 means patient didn't show up while 0 means they showed up\n",
        "cm = confusion_matrix(y_test, predictions)\n",
        "sns.heatmap(cm, annot=True, fmt=\"d\", cmap=\"Blues\", xticklabels=[\"Predicted 0\", \"Predicted 1\"], yticklabels=[\"Actual 0\", \"Actual 1\"])\n",
        "plt.ylabel('True No-show')\n",
        "plt.xlabel('Predicted No-show')\n",
        "plt.title('Confusion Matrix')\n",
        "plt.show()"
      ],
      "metadata": {
        "id": "rFbOooOWeo2J",
        "colab": {
          "base_uri": "https://localhost:8080/",
          "height": 472
        },
        "outputId": "d95e9163-2902-4943-eed5-a68ff3b6c512"
      },
      "execution_count": 329,
      "outputs": [
        {
          "output_type": "display_data",
          "data": {
            "text/plain": [
              "<Figure size 640x480 with 2 Axes>"
            ],
            "image/png": "[encoded data removed]"
          },
          "metadata": {}
        }
      ]
    },
    {
      "cell_type": "markdown",
      "source": [
        "- Quarter 1: Actual 0, predicted 1: 1283 | False Positive\n",
        "- Quarter 2: Actual 0, predicted 0: 16310 | True Negative\n",
        "- Quarter 3: Actual 1, predicted 0: 563 | False Negative\n",
        "- Quarter 4: Actual 1, predicted 1: 3880 | True Postive"
      ],
      "metadata": {
        "id": "ArAxgtzfYoSy"
      }
    },
    {
      "cell_type": "markdown",
      "source": [
        "**18. Use the functions `precision_score` and `recall_score` to calculate precision and recall - these numbers should correspond to the appropriate calculations from the 2x2 table.**"
      ],
      "metadata": {
        "id": "kQF32Bh_jf43"
      }
    },
    {
      "cell_type": "code",
      "source": [
        "precision = precision_score(y_test, predictions).round(3)\n",
        "precision_calculated = 3880 / (3880+1283)\n",
        "precision_calculated = round(precision_calculated, 3)\n",
        "print(f\"Precision: {precision}, calculated precision: {precision_calculated}\")\n",
        "\n",
        "recall =recall_score(y_test, predictions).round(3)\n",
        "recall_calculated = 3880 / (3880 + 563)\n",
        "recall_calculated = round(recall_calculated, 3)\n",
        "print(f\"Recall: {recall}, calculated recall: {recall_calculated}\")"
      ],
      "metadata": {
        "id": "05Z-Uo60jfjB",
        "colab": {
          "base_uri": "https://localhost:8080/",
          "height": 0
        },
        "outputId": "7afda6bb-fb9d-4a65-b7c1-bc254086bf2b"
      },
      "execution_count": 330,
      "outputs": [
        {
          "output_type": "stream",
          "name": "stdout",
          "text": [
            "Precision: 0.751, calculated precision: 0.752\n",
            "Recall: 0.874, calculated recall: 0.873\n"
          ]
        }
      ]
    },
    {
      "cell_type": "markdown",
      "source": [
        "**18b.(Extra Credit - 2 points) The precision and recall above were calculated using a threshold of 0.5 (that is, any case with a probability over 0.5 is predicted as No-show).  As we discussed in class, changing the threshold will have an effect on precision and recall.  Change the threshold of labelling a No-show to 0.9 and re-calcuate precision and recall.  (you will need to generate a new 2x2 table and calculate P&R from the values in the table). Interpret the change in P&R between the two thresholds.**"
      ],
      "metadata": {
        "id": "ruuKAoPLkB4n"
      }
    },
    {
      "cell_type": "code",
      "source": [
        "# If >= 0.9, predict as 1, means no showing up\n",
        "probabilities = model.predict_proba(X_test)\n",
        "threshold = 0.9\n",
        "predictions_custom_threshold = np.where(probabilities[:, 1] >= threshold, 1, 0)\n",
        "\n",
        "cm = confusion_matrix(y_test, predictions_custom_threshold)\n",
        "sns.heatmap(cm, annot=True, fmt=\"d\", cmap=\"Blues\", xticklabels=[\"Predicted 0\", \"Predicted 1\"], yticklabels=[\"Actual 0\", \"Actual 1\"])\n",
        "plt.ylabel('True No-show')\n",
        "plt.xlabel('Predicted No-show')\n",
        "plt.title('Confusion Matrix')\n",
        "plt.show()"
      ],
      "metadata": {
        "colab": {
          "base_uri": "https://localhost:8080/",
          "height": 472
        },
        "id": "MKjb6eokazaO",
        "outputId": "e57571ce-2cbb-404a-a6ad-32ca70d3df4c"
      },
      "execution_count": 331,
      "outputs": [
        {
          "output_type": "display_data",
          "data": {
            "text/plain": [
              "<Figure size 640x480 with 2 Axes>"
            ],
            "image/png": "[encoded data removed]"
          },
          "metadata": {}
        }
      ]
    },
    {
      "cell_type": "code",
      "source": [
        "precision = precision_score(y_test, predictions_custom_threshold).round(3)\n",
        "recall =recall_score(y_test, predictions_custom_threshold).round(3)\n",
        "print(f\"Precision: {precision}\")\n",
        "print(f\"Recall: {recall}\")"
      ],
      "metadata": {
        "colab": {
          "base_uri": "https://localhost:8080/",
          "height": 0
        },
        "id": "xSaDhIE4cRkC",
        "outputId": "c03c88a8-83b0-4d15-aabb-4a82c2e768aa"
      },
      "execution_count": 332,
      "outputs": [
        {
          "output_type": "stream",
          "name": "stdout",
          "text": [
            "Precision: 0.842\n",
            "Recall: 0.31\n"
          ]
        }
      ]
    },
    {
      "cell_type": "markdown",
      "source": [
        "**Change**\n",
        "- Threshold: 0.5 -> 0.9\n",
        "- Precision: 0.752 -> 0.842\n",
        "- Recall: 0.873 -> 0.309\n",
        "\n",
        "According to the data, we can conclude that after we change the threshold to 0.9, the precision improves, means that true positive takes bigger proportion in all predicted positives; On the other hand, however, the recall drastically drop down to 0.309, which means the true positive takes smaller proportion in the real positives. </br>\n",
        "\n",
        "So, the drop in recall means that the model is now correctly identifying a smaller percentage of the actual positive instances, which is not what we want.\n"
      ],
      "metadata": {
        "id": "UaSMghQbc2p8"
      }
    }
  ],
  "metadata": {
    "kernelspec": {
      "display_name": "Python 3",
      "language": "python",
      "name": "python3"
    },
    "language_info": {
      "codemirror_mode": {
        "name": "ipython",
        "version": 3
      },
      "file_extension": ".py",
      "mimetype": "text/x-python",
      "name": "python",
      "nbconvert_exporter": "python",
      "pygments_lexer": "ipython3",
      "version": "3.8.0"
    },
    "colab": {
      "provenance": []
    }
  },
  "nbformat": 4,
  "nbformat_minor": 0
}